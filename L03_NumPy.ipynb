{
 "cells": [
  {
   "cell_type": "markdown",
   "metadata": {
    "collapsed": true
   },
   "source": [
    "<img align=\"left\" src=\"./img/lu.png\" hspace=\"20\"/> <img align=\"right\" src=\"./img/midlands+.png\"/> \n",
    "<br/><br/><br/><br/><br/><br/><br/>\n",
    "\n",
    "------\n"
   ]
  },
  {
   "cell_type": "markdown",
   "metadata": {},
   "source": [
    "## NumPy\n",
    "[Numpy]( http://www.numpy.org/) is a Python extension package that is designed for scientific computation. It provides high-performance data structures for efficient manipulation of multi-dimensional arrays and matrices, also known as *array-oriented computing*. In addition, NumPy supplies many high-level mathematical functions that can operate on these arrays and matrices.\n",
    "\n",
    "NumPy is not included in the default Python. Users can install it through [the Python Package Index](https://pypi.org/),  `pip install numpy` for example. To use NumPy, import NumPy to your current namespace:"
   ]
  },
  {
   "cell_type": "code",
   "execution_count": 1,
   "metadata": {
    "collapsed": true
   },
   "outputs": [
    {
     "data": {
      "text/plain": [
       "10"
      ]
     },
     "execution_count": 1,
     "metadata": {},
     "output_type": "execute_result"
    }
   ],
   "source": [
    "from __future__ import print_function\n",
    "import numpy as np\n",
    "\n",
    "np.sum([1, 2, 3, 4])"
   ]
  },
  {
   "cell_type": "markdown",
   "metadata": {},
   "source": [
    "------\n",
    "\n",
    "### Creating NumPy arrays\n",
    "* Manually construct an array from a Python list or tuple using the NumPy `array` function"
   ]
  },
  {
   "cell_type": "code",
   "execution_count": 2,
   "metadata": {
    "collapsed": true
   },
   "outputs": [
    {
     "name": "stdout",
     "output_type": "stream",
     "text": [
      "[1 2 3 4]\n[5.6 6.7 7.8 8.9 9. ]\n1\n(4,)\n4\nint32\n"
     ]
    }
   ],
   "source": [
    "a = np.array([1, 2, 3, 4])  # from list\n",
    "b = np.array((5.6, 6.7, 7.8, 8.9, 9.))  # from tuple\n",
    "print(a)\n",
    "print(b)\n",
    "print(a.ndim)  # 1D array\n",
    "print(a.shape)\n",
    "print(a.size)\n",
    "print(a.dtype)"
   ]
  },
  {
   "cell_type": "markdown",
   "metadata": {},
   "source": [
    "Both array `a` and `b` have a NumPy type of `ndarray`:  "
   ]
  },
  {
   "cell_type": "code",
   "execution_count": 3,
   "metadata": {
    "collapsed": true
   },
   "outputs": [
    {
     "data": {
      "text/plain": [
       "(numpy.ndarray, numpy.ndarray)"
      ]
     },
     "execution_count": 3,
     "metadata": {},
     "output_type": "execute_result"
    }
   ],
   "source": [
    "type(a), type(b)"
   ]
  },
  {
   "cell_type": "markdown",
   "metadata": {},
   "source": [
    "2D array:"
   ]
  },
  {
   "cell_type": "code",
   "execution_count": 4,
   "metadata": {
    "collapsed": true
   },
   "outputs": [
    {
     "name": "stdout",
     "output_type": "stream",
     "text": [
      "[[1. 2. 3. 4.]\n [5. 6. 7. 8.]]\n2\n(2, 4)\n8\nfloat64\n"
     ]
    }
   ],
   "source": [
    "c = np.array([[1., 2., 3., 4.], [5., 6., 7., 8.]])\n",
    "print(c)\n",
    "print(c.ndim)  # 2D array\n",
    "print(c.shape)  # the shape is 2 x 4\n",
    "print(c.size)\n",
    "print(c.dtype)"
   ]
  },
  {
   "cell_type": "markdown",
   "metadata": {},
   "source": [
    "Datatype can also be specified during array creation:"
   ]
  },
  {
   "cell_type": "code",
   "execution_count": 5,
   "metadata": {
    "collapsed": true
   },
   "outputs": [
    {
     "name": "stdout",
     "output_type": "stream",
     "text": [
      "float64\n"
     ]
    }
   ],
   "source": [
    "d = np.array([[1, 2, 3], [10, 20, 30]], dtype='float64')\n",
    "print(d.dtype)"
   ]
  },
  {
   "cell_type": "markdown",
   "metadata": {},
   "source": [
    "* Create an array using functions\n",
    "\n",
    "\t`np.arange()` and `np.linspace()` are usually used to construct evenly-spaced arrays. The former specifies the start, end and increment values, whilst the latter returns a 1-D array by giving the start, end and number of elements."
   ]
  },
  {
   "cell_type": "code",
   "execution_count": 6,
   "metadata": {
    "collapsed": true
   },
   "outputs": [
    {
     "name": "stdout",
     "output_type": "stream",
     "text": [
      "[0 1 2 3 4 5]\n[2 4 6 8]\n[ 2.  3.  4.  5.  6.  7.  8.  9. 10. 11. 12. 13.]\n"
     ]
    }
   ],
   "source": [
    "# In practice, we rarely enter elements one by one.\n",
    "e = np.arange(6)  # from 0 to n-1 with an increment of 1\n",
    "print(e)\n",
    "\n",
    "# Or specify the start, end and increment values\n",
    "f = np.arange(2, 10, 2)\n",
    "print(f)\n",
    "\n",
    "# Or use the linspace function that is similar to that of Matlab\n",
    "g = np.linspace(2, 13, 12)  # start, end and number of elements\n",
    "print(g)"
   ]
  },
  {
   "cell_type": "markdown",
   "metadata": {},
   "source": [
    "We can then reshape it to different shapes:"
   ]
  },
  {
   "cell_type": "code",
   "execution_count": 7,
   "metadata": {
    "collapsed": true
   },
   "outputs": [
    {
     "name": "stdout",
     "output_type": "stream",
     "text": [
      "[[ 2.  3.  4.  5.  6.  7.]\n [ 8.  9. 10. 11. 12. 13.]]\n\n\n\n[[[ 2.  3.  4.]\n  [ 5.  6.  7.]]\n\n [[ 8.  9. 10.]\n  [11. 12. 13.]]]\n"
     ]
    }
   ],
   "source": [
    "h = g.reshape([2, 6])  # 2D\n",
    "print(h)\n",
    "print('\\n\\n')\n",
    "\n",
    "i = g.reshape([2, 2, 3])  # 3D\n",
    "print(i)"
   ]
  },
  {
   "cell_type": "markdown",
   "metadata": {},
   "source": [
    " `np.ones()`, `np.zeros()`, `np.random()`, `np.empty()` and `np.full()` are often used to create arrays that have known shapes."
   ]
  },
  {
   "cell_type": "code",
   "execution_count": 8,
   "metadata": {
    "collapsed": true
   },
   "outputs": [
    {
     "name": "stdout",
     "output_type": "stream",
     "text": [
      "np.ones():\n [[1. 1. 1.]\n [1. 1. 1.]] \n\nnp.zeros():\n [[[0 0 0 0]\n  [0 0 0 0]\n  [0 0 0 0]]\n\n [[0 0 0 0]\n  [0 0 0 0]\n  [0 0 0 0]]] \n\nnp.random():\n [[0.69900363 0.48865653]\n [0.55812573 0.31788455]] \n\nnp.empty():\n [[1. 1.]\n [1. 1.]\n [1. 1.]] \n\nnp.full():\n [[10 10]\n [10 10]\n [10 10]] \n\n"
     ]
    }
   ],
   "source": [
    "# Create an array of ones\n",
    "print('np.ones():\\n', np.ones((2, 3)), '\\n')\n",
    "\n",
    "# Create an array of zeros\n",
    "print('np.zeros():\\n', np.zeros((2, 3, 4), dtype=np.int32), '\\n')\n",
    "\n",
    "# Create an array with random values\n",
    "print('np.random():\\n', np.random.random((2, 2)), '\\n')\n",
    "\n",
    "# Create an empty array that has a shape of 3x2\n",
    "print('np.empty():\\n', np.empty((3, 2)), '\\n')\n",
    "\n",
    "# Create a full array that has a shape of 3x2 and is filled with number 10\n",
    "print('np.full():\\n', np.full((3, 2), 10), '\\n')"
   ]
  },
  {
   "cell_type": "markdown",
   "metadata": {},
   "source": [
    "`np.eye()` creates a 2-D array with ones on the diagonal and zeros elsewhere, while `np.diag()` returns a diagonal 2-D array from a 1-D array specified by the user."
   ]
  },
  {
   "cell_type": "code",
   "execution_count": 9,
   "metadata": {
    "collapsed": true
   },
   "outputs": [
    {
     "name": "stdout",
     "output_type": "stream",
     "text": [
      "np.eye():\n [[1. 0. 0.]\n [0. 1. 0.]\n [0. 0. 1.]] \n\nnp.diag():\n [[2 0 0 0]\n [0 3 0 0]\n [0 0 4 0]\n [0 0 0 5]]\n"
     ]
    }
   ],
   "source": [
    "print('np.eye():\\n', np.eye(3), '\\n')\n",
    "\n",
    "print('np.diag():\\n', np.diag((2, 3, 4, 5)))"
   ]
  },
  {
   "cell_type": "markdown",
   "metadata": {},
   "source": [
    "`np.mgrid()` returns a dense multi-dimensional “meshgrid”."
   ]
  },
  {
   "cell_type": "code",
   "execution_count": 10,
   "metadata": {
    "collapsed": true
   },
   "outputs": [
    {
     "name": "stdout",
     "output_type": "stream",
     "text": [
      "x: \n [[0 0 0 0 0]\n [1 1 1 1 1]\n [2 2 2 2 2]\n [3 3 3 3 3]] \n\ny: \n [[1 2 3 4 5]\n [1 2 3 4 5]\n [1 2 3 4 5]\n [1 2 3 4 5]] \n\n"
     ]
    }
   ],
   "source": [
    "x, y = np.mgrid[0:4, 1:6]\n",
    "print('x: \\n', x, '\\n')\n",
    "print('y: \\n', y, '\\n')"
   ]
  },
  {
   "cell_type": "markdown",
   "metadata": {},
   "source": [
    "------\n",
    "\n",
    "### Indexing and slicing\n",
    "\n",
    "1-D arrays can be indexed and sliced by using the square bracket and positional indices, much like the Python lists. NumPy array index starts from `0` and accepts both positive and negative indices. The former counts from the beginning while the latter counts from the end of the array."
   ]
  },
  {
   "cell_type": "code",
   "execution_count": 11,
   "metadata": {
    "collapsed": true
   },
   "outputs": [
    {
     "name": "stdout",
     "output_type": "stream",
     "text": [
      "Array a:  [0 1 2 3 4 5 6 7 8 9]\nThe first element of a:  0\nThe last element of a:  9\nThe first 3 elements of a:  [0 1 2]\nThe last 3 elements of a:  [7 8 9]\nElements from the third to the end:  [2 3 4 5 6 7 8 9]\nElements from the third to the eighth:  [2 3 4 5 6 7]\nElements from the start to the end with a step of 1:  [0 1 2 3 4 5 6 7 8 9]\nElements from the start to the end with a step of 2:  [0 2 4 6 8]\nElements from the third to the eighth with a step of 2:  [2 4 6]\n"
     ]
    }
   ],
   "source": [
    "a = np.arange(10)\n",
    "print('Array a: ', a[:])\n",
    "print('The first element of a: ', a[0])\n",
    "print('The last element of a: ', a[-1])\n",
    "print('The first 3 elements of a: ', a[:3])\n",
    "print('The last 3 elements of a: ', a[-3:])\n",
    "print('Elements from the third to the end: ', a[2:])\n",
    "print('Elements from the third to the eighth: ', a[2:8])\n",
    "print('Elements from the start to the end with a step of 1: ', a[::])\n",
    "print('Elements from the start to the end with a step of 2: ', a[::2])\n",
    "print('Elements from the third to the eighth with a step of 2: ', a[2:8:2])"
   ]
  },
  {
   "cell_type": "markdown",
   "metadata": {},
   "source": [
    "Multidimensional arrays can be indexed and sliced by specifying one index per axis. Each axis accepts the indexing rules described above."
   ]
  },
  {
   "cell_type": "code",
   "execution_count": 12,
   "metadata": {
    "collapsed": true
   },
   "outputs": [
    {
     "name": "stdout",
     "output_type": "stream",
     "text": [
      "Array b:\n [[0 1 2 3 4 5]\n [1 2 3 4 5 6]\n [2 3 4 5 6 7]\n [3 4 5 6 7 8]] \n\nThe second row:  [1 2 3 4 5 6] \n\nA subset of array b:\n [[3 4]\n [4 5]\n [5 6]]\n"
     ]
    }
   ],
   "source": [
    "# Here we use list comprehension to construct a 2-D array\n",
    "b = np.array([[m + n for m in np.arange(6)] for n in np.arange(4)])\n",
    "print('Array b:\\n', b[:, :], '\\n')\n",
    "print('The second row: ', b[1, :], '\\n')\n",
    "print('A subset of array b:\\n', b[1:4, 2:4])"
   ]
  },
  {
   "cell_type": "markdown",
   "metadata": {},
   "source": [
    "When fewer indices are provided compared to the dimension of the array,  the non-supplied indices will be set to be the complete `:`."
   ]
  },
  {
   "cell_type": "code",
   "execution_count": 13,
   "metadata": {
    "collapsed": true
   },
   "outputs": [
    {
     "name": "stdout",
     "output_type": "stream",
     "text": [
      "The first row:  [0 1 2 3 4 5]\n"
     ]
    }
   ],
   "source": [
    "print('The first row: ', b[0])  # equivalent to b[0, :]"
   ]
  },
  {
   "cell_type": "markdown",
   "metadata": {},
   "source": [
    "An integer array or list can also be used in-place as indices: "
   ]
  },
  {
   "cell_type": "code",
   "execution_count": 14,
   "metadata": {
    "collapsed": true
   },
   "outputs": [
    {
     "name": "stdout",
     "output_type": "stream",
     "text": [
      "b[idx_row]:\n [[0 1 2 3 4 5]\n [2 3 4 5 6 7]\n [3 4 5 6 7 8]] \n\nb[idx_col]:\n [[1 3 5]\n [2 4 6]\n [3 5 7]\n [4 6 8]] \n\nb[idx_row, idx_col]:\n [1 5 8]\n"
     ]
    }
   ],
   "source": [
    "idx_row = np.array([0, 2, 3])\n",
    "idx_col = np.array([1, 3, 5])\n",
    "print('b[idx_row]:\\n', b[idx_row], '\\n')\n",
    "print('b[idx_col]:\\n', b[:, idx_col], '\\n')\n",
    "print('b[idx_row, idx_col]:\\n', b[idx_row, idx_col])"
   ]
  },
  {
   "cell_type": "markdown",
   "metadata": {},
   "source": [
    "Indexing NumPy arrays with Boolean masks is very useful to access and process array elements selectively. We can use an array with bool datatype as the index array, and the element where its index value is true is selected."
   ]
  },
  {
   "cell_type": "code",
   "execution_count": 15,
   "metadata": {
    "collapsed": true
   },
   "outputs": [
    {
     "name": "stdout",
     "output_type": "stream",
     "text": [
      "b:\n [[0 1 2 3 4 5]\n [1 2 3 4 5 6]\n [2 3 4 5 6 7]\n [3 4 5 6 7 8]] \n\nmasks:\n [[False  True False  True False  True]\n [False  True False  True False  True]\n [False  True False  True False  True]\n [False  True False  True False  True]] \n\nMasked b:\n [1 3 5 2 4 6 3 5 7 4 6 8]\n"
     ]
    }
   ],
   "source": [
    "masks = np.array([[0, 1, 0, 1, 0, 1], [0, 1, 0, 1, 0, 1], [0, 1, 0, 1, 0, 1], [0, 1, 0, 1, 0, 1]], dtype=bool)\n",
    "print('b:\\n', b, '\\n')\n",
    "print('masks:\\n', masks, '\\n')\n",
    "print('Masked b:\\n', b[masks])"
   ]
  },
  {
   "cell_type": "markdown",
   "metadata": {},
   "source": [
    "Applying logical conditions to an array will return a Boolean array that can be used as masks, extracting elements greater than 2 for example."
   ]
  },
  {
   "cell_type": "code",
   "execution_count": 16,
   "metadata": {
    "collapsed": true
   },
   "outputs": [
    {
     "data": {
      "text/plain": [
       "array([3, 4, 5, 3, 4, 5, 6, 3, 4, 5, 6, 7, 3, 4, 5, 6, 7, 8])"
      ]
     },
     "execution_count": 16,
     "metadata": {},
     "output_type": "execute_result"
    }
   ],
   "source": [
    "b[b > 2]"
   ]
  },
  {
   "cell_type": "markdown",
   "metadata": {},
   "source": [
    "------\n",
    "\n",
    "### Operations\n",
    "#### Arithmetic operations\n",
    "`+`, `-`, `*` and `/` can be performed between two NumPy arrays or between a scalar and an array in a way of element-wise operation. "
   ]
  },
  {
   "cell_type": "code",
   "execution_count": 17,
   "metadata": {},
   "outputs": [],
   "source": [
    "a = 10.5\n",
    "array1 = np.array([[m + n for m in np.arange(6)] for n in np.arange(4)], dtype=np.float32)  # 4 x 6 2D arrays\n",
    "array2 = np.array([[m - n for m in np.arange(6)] for n in np.arange(4)], dtype=np.float32)  # 4 x 6 2D arrays"
   ]
  },
  {
   "cell_type": "code",
   "execution_count": 18,
   "metadata": {
    "collapsed": true
   },
   "outputs": [
    {
     "name": "stdout",
     "output_type": "stream",
     "text": [
      "[[10.5 11.5 12.5 13.5 14.5 15.5]\n [11.5 12.5 13.5 14.5 15.5 16.5]\n [12.5 13.5 14.5 15.5 16.5 17.5]\n [13.5 14.5 15.5 16.5 17.5 18.5]] \n\n[[0. 0. 0. 0. 0. 0.]\n [2. 2. 2. 2. 2. 2.]\n [4. 4. 4. 4. 4. 4.]\n [6. 6. 6. 6. 6. 6.]] \n\n[[0.         0.0952381  0.1904762  0.2857143  0.3809524  0.47619048]\n [0.0952381  0.1904762  0.2857143  0.3809524  0.47619048 0.5714286 ]\n [0.1904762  0.2857143  0.3809524  0.47619048 0.5714286  0.6666667 ]\n [0.2857143  0.3809524  0.47619048 0.5714286  0.6666667  0.7619048 ]] \n\n[[ 0.  1.  4.  9. 16. 25.]\n [-1.  0.  3.  8. 15. 24.]\n [-4. -3.  0.  5. 12. 21.]\n [-9. -8. -5.  0.  7. 16.]]\n"
     ]
    }
   ],
   "source": [
    "print(array1 + a, '\\n')\n",
    "print(array1 - array2, '\\n')\n",
    "print(array1 / a, '\\n')\n",
    "print(array1 * array2)"
   ]
  },
  {
   "cell_type": "markdown",
   "metadata": {},
   "source": [
    "`+=`, `-=`, `*=` and `/=` that are different from the normal operations above will act in place to modify the existing arrays rather than creating new ones. "
   ]
  },
  {
   "cell_type": "code",
   "execution_count": 19,
   "metadata": {
    "collapsed": true
   },
   "outputs": [
    {
     "name": "stdout",
     "output_type": "stream",
     "text": [
      "[0. 1. 2. 3. 4. 5. 6. 7. 8. 9.]\n[ 2.5  3.5  4.5  5.5  6.5  7.5  8.5  9.5 10.5 11.5]\n"
     ]
    }
   ],
   "source": [
    "array3 = np.array(np.arange(10), dtype=float)\n",
    "print(array3)\n",
    "array3 += 2.5\n",
    "print(array3)"
   ]
  },
  {
   "cell_type": "markdown",
   "metadata": {},
   "source": [
    "#### Matrix algebra\n",
    "\n",
    "Array manipulation is NOT matrix manipulation. The former is element-wise operation while the later follows the rules of algebra. If we use the NumPy arrays as the input parameters of algebra functions (e.g. the dot product `np.dot()`), the shapes of two arrays should match the algebra rules."
   ]
  },
  {
   "cell_type": "code",
   "execution_count": 20,
   "metadata": {
    "collapsed": true
   },
   "outputs": [
    {
     "data": {
      "text/plain": [
       "(array([[0, 1, 2, 3],\n        [1, 2, 3, 4],\n        [2, 3, 4, 5],\n        [3, 4, 5, 6]]), array([[ 0,  1,  2],\n        [-1,  0,  1],\n        [-2, -1,  0],\n        [-3, -2, -1]]), array([0, 1, 2, 3]))"
      ]
     },
     "execution_count": 20,
     "metadata": {},
     "output_type": "execute_result"
    }
   ],
   "source": [
    "A = np.array([[m + n for m in np.arange(4)] for n in np.arange(4)])  # 4 x 4 2D arrays\n",
    "B = np.array([[m - n for m in np.arange(3)] for n in np.arange(4)])  # 4 x 3 2D arrays\n",
    "C = np.arange(4)  # 1D vector with a size of 4\n",
    "A, B, C"
   ]
  },
  {
   "cell_type": "code",
   "execution_count": 21,
   "metadata": {
    "collapsed": true
   },
   "outputs": [
    {
     "name": "stdout",
     "output_type": "stream",
     "text": [
      "[[-14  -8  -2]\n [-20 -10   0]\n [-26 -12   2]\n [-32 -14   4]]"
     ]
    },
    {
     "name": "stdout",
     "output_type": "stream",
     "text": [
      " \n\n[14 20 26 32]\n"
     ]
    }
   ],
   "source": [
    "print(np.dot(A, B), '\\n')\n",
    "print(np.dot(A, C))"
   ]
  },
  {
   "cell_type": "markdown",
   "metadata": {},
   "source": [
    "Alternatively, we can cast the NumPy arrays to NumPy matrix objects by using `np.matrix()`."
   ]
  },
  {
   "cell_type": "code",
   "execution_count": 22,
   "metadata": {
    "collapsed": true
   },
   "outputs": [
    {
     "data": {
      "text/plain": [
       "(matrix([[0, 1, 2, 3],\n         [1, 2, 3, 4],\n         [2, 3, 4, 5],\n         [3, 4, 5, 6]]), matrix([[ 0,  1,  2],\n         [-1,  0,  1],\n         [-2, -1,  0],\n         [-3, -2, -1]]), matrix([[0, 1, 2, 3]]))"
      ]
     },
     "execution_count": 22,
     "metadata": {},
     "output_type": "execute_result"
    }
   ],
   "source": [
    "AM = np.matrix(A)\n",
    "BM = np.matrix(B)\n",
    "CM = np.matrix(C)\n",
    "AM, BM, CM"
   ]
  },
  {
   "cell_type": "markdown",
   "metadata": {},
   "source": [
    "Then, we can use `+`, `-`, and `*` for matrix algebra directly. Note that the shapes should be compatible with matrix algebra, otherwise an error will be returned. "
   ]
  },
  {
   "cell_type": "code",
   "execution_count": 23,
   "metadata": {
    "collapsed": true
   },
   "outputs": [
    {
     "data": {
      "text/plain": [
       "matrix([[-14,  -8,  -2],\n        [-20, -10,   0],\n        [-26, -12,   2],\n        [-32, -14,   4]])"
      ]
     },
     "execution_count": 23,
     "metadata": {},
     "output_type": "execute_result"
    }
   ],
   "source": [
    "# dot product\n",
    "AM * BM"
   ]
  },
  {
   "cell_type": "code",
   "execution_count": 24,
   "metadata": {
    "collapsed": true
   },
   "outputs": [
    {
     "data": {
      "text/plain": [
       "matrix([[14],\n        [20],\n        [26],\n        [32]])"
      ]
     },
     "execution_count": 24,
     "metadata": {},
     "output_type": "execute_result"
    }
   ],
   "source": [
    "AM * CM.T  # here .T means Transport that converts CM to a column vector"
   ]
  },
  {
   "cell_type": "code",
   "execution_count": 25,
   "metadata": {
    "collapsed": true
   },
   "outputs": [
    {
     "data": {
      "text/plain": [
       "matrix([[14]])"
      ]
     },
     "execution_count": 25,
     "metadata": {},
     "output_type": "execute_result"
    }
   ],
   "source": [
    "# inner product\n",
    "CM * CM.T  # you can also use np.inner() function"
   ]
  },
  {
   "cell_type": "code",
   "execution_count": 26,
   "metadata": {
    "collapsed": true
   },
   "outputs": [
    {
     "data": {
      "text/plain": [
       "matrix([[0, 0, 0, 0],\n        [0, 1, 2, 3],\n        [0, 2, 4, 6],\n        [0, 3, 6, 9]])"
      ]
     },
     "execution_count": 26,
     "metadata": {},
     "output_type": "execute_result"
    }
   ],
   "source": [
    "# outer product\n",
    "CM.T * CM  # you can also use np.outer() function"
   ]
  },
  {
   "cell_type": "code",
   "execution_count": 27,
   "metadata": {
    "collapsed": true
   },
   "outputs": [
    {
     "data": {
      "text/plain": [
       "matrix([[14],\n        [21],\n        [28],\n        [35]])"
      ]
     },
     "execution_count": 27,
     "metadata": {},
     "output_type": "execute_result"
    }
   ],
   "source": [
    "# Matrix addition\n",
    "CM.T + AM * CM.T"
   ]
  },
  {
   "cell_type": "markdown",
   "metadata": {},
   "source": [
    "Determinant and Inverse of matrices:"
   ]
  },
  {
   "cell_type": "code",
   "execution_count": 28,
   "metadata": {
    "collapsed": true
   },
   "outputs": [
    {
     "data": {
      "text/plain": [
       "-326.0"
      ]
     },
     "execution_count": 28,
     "metadata": {},
     "output_type": "execute_result"
    }
   ],
   "source": [
    "# Determinant\n",
    "M = np.array([[6, 1, 2], [2, -4, 6], [3, 5, 8]])\n",
    "np.linalg.det(M)"
   ]
  },
  {
   "cell_type": "code",
   "execution_count": 29,
   "metadata": {
    "collapsed": true
   },
   "outputs": [
    {
     "data": {
      "text/plain": [
       "array([[ 0.19018405, -0.00613497, -0.04294479],\n       [-0.00613497, -0.12883436,  0.09815951],\n       [-0.06748466,  0.08282209,  0.0797546 ]])"
      ]
     },
     "execution_count": 29,
     "metadata": {},
     "output_type": "execute_result"
    }
   ],
   "source": [
    "# Inverse\n",
    "np.linalg.inv(M)"
   ]
  },
  {
   "cell_type": "markdown",
   "metadata": {},
   "source": [
    "#### Other functions\n",
    "\n",
    "NumPy provides with many statistical functions that can be used for data processing, `np.sum()`, `np.mean()`, `np.min()`, `np.max()`, `np.std()`, `np.var()`, `np.prod()`, and `np.trace()` for example, and other mathematical functions such as trigonometric functions and functions for rounding numbers. A full list of mathematical functions is available [here](https://docs.scipy.org/doc/numpy-1.13.0/reference/routines.math.html)."
   ]
  },
  {
   "cell_type": "markdown",
   "metadata": {},
   "source": [
    "------\n",
    "\n",
    "### Copies and Views\n",
    "\n",
    "Memory handling in Python can be tricky. For array manipulations some operations copy array data to a new array and some don’t. That is quite confusing especially for beginners. Let’s take a look at what are _copies_ and _views_.\n",
    " \n",
    "#### No copy\n",
    "Array assignment will not copy array data. What it is doing is just give the array an alias. Changes made to the new objects will be propagated to the raw array."
   ]
  },
  {
   "cell_type": "code",
   "execution_count": 30,
   "metadata": {
    "collapsed": true
   },
   "outputs": [
    {
     "data": {
      "text/plain": [
       "array([1, 2, 3, 4, 5])"
      ]
     },
     "execution_count": 30,
     "metadata": {},
     "output_type": "execute_result"
    }
   ],
   "source": [
    "D = np.array([1, 2, 3, 4, 5])\n",
    "D"
   ]
  },
  {
   "cell_type": "code",
   "execution_count": 31,
   "metadata": {
    "collapsed": true
   },
   "outputs": [
    {
     "data": {
      "text/plain": [
       "True"
      ]
     },
     "execution_count": 31,
     "metadata": {},
     "output_type": "execute_result"
    }
   ],
   "source": [
    "D1 = D\n",
    "D1 is D"
   ]
  },
  {
   "cell_type": "code",
   "execution_count": 32,
   "metadata": {
    "collapsed": true
   },
   "outputs": [
    {
     "name": "stdout",
     "output_type": "stream",
     "text": [
      "[100 100   3   4   5]\n"
     ]
    }
   ],
   "source": [
    "D1[0:1] = 100  # we change D1\n",
    "print(D)  # D is also changed"
   ]
  },
  {
   "cell_type": "markdown",
   "metadata": {},
   "source": [
    "Python functions pass mutable objects as references. "
   ]
  },
  {
   "cell_type": "code",
   "execution_count": 33,
   "metadata": {
    "collapsed": true
   },
   "outputs": [
    {
     "data": {
      "text/plain": [
       "array([-10, -10, -10, -10, -10])"
      ]
     },
     "execution_count": 33,
     "metadata": {},
     "output_type": "execute_result"
    }
   ],
   "source": [
    "def myfunc(a):\n",
    "    a[:] = -10\n",
    "    \n",
    "myfunc(D)\n",
    "D"
   ]
  },
  {
   "cell_type": "markdown",
   "metadata": {},
   "source": [
    "#### View and shallow copy\n",
    "Different objects can share the same data (same memory) and represent the same data in different forms (e.g. different shapes). This is what `view` is doing. "
   ]
  },
  {
   "cell_type": "code",
   "execution_count": 34,
   "metadata": {
    "collapsed": true
   },
   "outputs": [
    {
     "data": {
      "text/plain": [
       "array([1, 2, 3, 4, 5, 6])"
      ]
     },
     "execution_count": 34,
     "metadata": {},
     "output_type": "execute_result"
    }
   ],
   "source": [
    "E = np.array([1, 2, 3, 4, 5, 6])\n",
    "E"
   ]
  },
  {
   "cell_type": "code",
   "execution_count": 35,
   "metadata": {
    "collapsed": true
   },
   "outputs": [
    {
     "data": {
      "text/plain": [
       "array([1, 2, 3, 4, 5, 6])"
      ]
     },
     "execution_count": 35,
     "metadata": {},
     "output_type": "execute_result"
    }
   ],
   "source": [
    "E1 = E.view()\n",
    "E1"
   ]
  },
  {
   "cell_type": "code",
   "execution_count": 36,
   "metadata": {
    "collapsed": true
   },
   "outputs": [
    {
     "data": {
      "text/plain": [
       "False"
      ]
     },
     "execution_count": 36,
     "metadata": {},
     "output_type": "execute_result"
    }
   ],
   "source": [
    "E1 is E"
   ]
  },
  {
   "cell_type": "code",
   "execution_count": 37,
   "metadata": {
    "collapsed": true
   },
   "outputs": [
    {
     "data": {
      "text/plain": [
       "(3, 2)"
      ]
     },
     "execution_count": 37,
     "metadata": {},
     "output_type": "execute_result"
    }
   ],
   "source": [
    "E1.shape = (3, 2)  # now E1's shape is 3x2\n",
    "E1.shape"
   ]
  },
  {
   "cell_type": "code",
   "execution_count": 38,
   "metadata": {
    "collapsed": true
   },
   "outputs": [
    {
     "data": {
      "text/plain": [
       "(6,)"
      ]
     },
     "execution_count": 38,
     "metadata": {},
     "output_type": "execute_result"
    }
   ],
   "source": [
    "E.shape"
   ]
  },
  {
   "cell_type": "code",
   "execution_count": 39,
   "metadata": {
    "collapsed": true
   },
   "outputs": [
    {
     "data": {
      "text/plain": [
       "array([0, 0, 3, 4, 5, 6])"
      ]
     },
     "execution_count": 39,
     "metadata": {},
     "output_type": "execute_result"
    }
   ],
   "source": [
    "E1[0, :] = 0  # Now we change E1\n",
    "E  # E is also changed "
   ]
  },
  {
   "cell_type": "markdown",
   "metadata": {},
   "source": [
    "Slicing operation returns a view of array."
   ]
  },
  {
   "cell_type": "code",
   "execution_count": 40,
   "metadata": {
    "collapsed": true
   },
   "outputs": [
    {
     "data": {
      "text/plain": [
       "array([3, 4, 5, 6])"
      ]
     },
     "execution_count": 40,
     "metadata": {},
     "output_type": "execute_result"
    }
   ],
   "source": [
    "E2 = E[2:]\n",
    "E2"
   ]
  },
  {
   "cell_type": "code",
   "execution_count": 41,
   "metadata": {
    "collapsed": true
   },
   "outputs": [
    {
     "data": {
      "text/plain": [
       "array([0, 0, 0, 0, 0, 0])"
      ]
     },
     "execution_count": 41,
     "metadata": {},
     "output_type": "execute_result"
    }
   ],
   "source": [
    "E2[:] = 0  # change E2\n",
    "E  # E also changed"
   ]
  },
  {
   "cell_type": "markdown",
   "metadata": {},
   "source": [
    "#### Deep copy\n",
    "Deep copy means making a new copy of data completely. This is done by the `copy` function."
   ]
  },
  {
   "cell_type": "code",
   "execution_count": 42,
   "metadata": {
    "collapsed": true
   },
   "outputs": [
    {
     "data": {
      "text/plain": [
       "array([0, 0, 0, 0, 0, 0])"
      ]
     },
     "execution_count": 42,
     "metadata": {},
     "output_type": "execute_result"
    }
   ],
   "source": [
    "E3 = E.copy()\n",
    "E3"
   ]
  },
  {
   "cell_type": "code",
   "execution_count": 43,
   "metadata": {
    "collapsed": true
   },
   "outputs": [
    {
     "data": {
      "text/plain": [
       "array([0, 0, 0, 0, 0, 0])"
      ]
     },
     "execution_count": 43,
     "metadata": {},
     "output_type": "execute_result"
    }
   ],
   "source": [
    "E3[:] = 100  # E3 has been changed\n",
    "E  # E is not affected"
   ]
  },
  {
   "cell_type": "markdown",
   "metadata": {},
   "source": [
    "To prevent changes from functions, we need to pass a copy of array to the function."
   ]
  },
  {
   "cell_type": "code",
   "execution_count": 44,
   "metadata": {
    "collapsed": true
   },
   "outputs": [
    {
     "data": {
      "text/plain": [
       "array([0, 0, 0, 0, 0, 0])"
      ]
     },
     "execution_count": 44,
     "metadata": {},
     "output_type": "execute_result"
    }
   ],
   "source": [
    "myfunc(E.copy())\n",
    "E"
   ]
  },
  {
   "cell_type": "code",
   "execution_count": 45,
   "metadata": {
    "collapsed": true
   },
   "outputs": [
    {
     "data": {
      "text/plain": [
       "array([-10, -10, -10, -10, -10, -10])"
      ]
     },
     "execution_count": 45,
     "metadata": {},
     "output_type": "execute_result"
    }
   ],
   "source": [
    "# If we pass E directly to the function\n",
    "myfunc(E)\n",
    "E"
   ]
  },
  {
   "cell_type": "markdown",
   "metadata": {},
   "source": [
    "------\n",
    "\n",
    "### Manipulating arrays\n",
    "#### Flattening, reshaping and resizing\n",
    "A multidimensional array can be flattened to a 1D vector by using the build-in `flatten` or `ravel` methods of the array object. The former returns a copy of array while the latter returns a view.    "
   ]
  },
  {
   "cell_type": "code",
   "execution_count": 46,
   "metadata": {
    "collapsed": true
   },
   "outputs": [
    {
     "data": {
      "text/plain": [
       "array([[0, 1, 2, 3],\n       [1, 2, 3, 4],\n       [2, 3, 4, 5],\n       [3, 4, 5, 6]])"
      ]
     },
     "execution_count": 46,
     "metadata": {},
     "output_type": "execute_result"
    }
   ],
   "source": [
    "A"
   ]
  },
  {
   "cell_type": "code",
   "execution_count": 47,
   "metadata": {
    "collapsed": true
   },
   "outputs": [
    {
     "data": {
      "text/plain": [
       "array([0, 1, 2, 3, 1, 2, 3, 4, 2, 3, 4, 5, 3, 4, 5, 6])"
      ]
     },
     "execution_count": 47,
     "metadata": {},
     "output_type": "execute_result"
    }
   ],
   "source": [
    "A1 = A.flatten()\n",
    "A1"
   ]
  },
  {
   "cell_type": "code",
   "execution_count": 48,
   "metadata": {
    "collapsed": true
   },
   "outputs": [
    {
     "data": {
      "text/plain": [
       "array([ 0, 99, 99, 99, 99, 99,  3,  4,  2,  3,  4,  5,  3,  4,  5,  6])"
      ]
     },
     "execution_count": 48,
     "metadata": {},
     "output_type": "execute_result"
    }
   ],
   "source": [
    "# change A1\n",
    "A1[1:6] = 99\n",
    "A1"
   ]
  },
  {
   "cell_type": "code",
   "execution_count": 49,
   "metadata": {
    "collapsed": true
   },
   "outputs": [
    {
     "data": {
      "text/plain": [
       "array([[0, 1, 2, 3],\n       [1, 2, 3, 4],\n       [2, 3, 4, 5],\n       [3, 4, 5, 6]])"
      ]
     },
     "execution_count": 49,
     "metadata": {},
     "output_type": "execute_result"
    }
   ],
   "source": [
    "# verify A\n",
    "A"
   ]
  },
  {
   "cell_type": "code",
   "execution_count": 50,
   "metadata": {
    "collapsed": true
   },
   "outputs": [
    {
     "data": {
      "text/plain": [
       "array([[ 0, 99, 99, 99],\n       [99, 99,  3,  4],\n       [ 2,  3,  4,  5],\n       [ 3,  4,  5,  6]])"
      ]
     },
     "execution_count": 50,
     "metadata": {},
     "output_type": "execute_result"
    }
   ],
   "source": [
    "A2 = A.ravel()\n",
    "A2[1:6] = 99  # we change A2\n",
    "A  # A is changed"
   ]
  },
  {
   "cell_type": "markdown",
   "metadata": {},
   "source": [
    "An array can be reshaped to other shapes by using the object `reshape` method or the `np.reshape` function. Both return a view of array. To be able to reshape an array, the size of the new shape must match the number of the elements of the array that is to be reshaped. For example, array A has 16 elements and we can reshape it to `(4, 4)`, `(2, 8)` or `(2, 2, 4)`, but not `(3, 4)`, `(3, 8)` or other shapes that do not match the size of the array."
   ]
  },
  {
   "cell_type": "code",
   "execution_count": 51,
   "metadata": {
    "collapsed": true
   },
   "outputs": [
    {
     "data": {
      "text/plain": [
       "array([[ 0, 99, 99, 99, 99, 99,  3,  4],\n       [ 2,  3,  4,  5,  3,  4,  5,  6]])"
      ]
     },
     "execution_count": 51,
     "metadata": {},
     "output_type": "execute_result"
    }
   ],
   "source": [
    "A3 = A.reshape(2, 8)\n",
    "A3"
   ]
  },
  {
   "cell_type": "code",
   "execution_count": 52,
   "metadata": {
    "collapsed": true
   },
   "outputs": [
    {
     "data": {
      "text/plain": [
       "array([[  0, 100, 100, 100],\n       [100, 100,   3,   4],\n       [  2,   3,   4,   5],\n       [  3,   4,   5,   6]])"
      ]
     },
     "execution_count": 52,
     "metadata": {},
     "output_type": "execute_result"
    }
   ],
   "source": [
    "# let's introduce changes to A3\n",
    "A3[0, 1:6] = 100\n",
    "A"
   ]
  },
  {
   "cell_type": "code",
   "execution_count": 53,
   "metadata": {
    "collapsed": true
   },
   "outputs": [
    {
     "data": {
      "text/plain": [
       "array([[  0, 100, 100, 100, 100, 100,   3,   4],\n       [  2,   3,   4,   5,   3,   4,   5,   6]])"
      ]
     },
     "execution_count": 53,
     "metadata": {},
     "output_type": "execute_result"
    }
   ],
   "source": [
    "A4 = np.reshape(A, (2, 8))\n",
    "A4"
   ]
  },
  {
   "cell_type": "code",
   "execution_count": 54,
   "metadata": {
    "collapsed": true
   },
   "outputs": [
    {
     "data": {
      "text/plain": [
       "array([[  0, 200, 200, 200],\n       [200, 200,   3,   4],\n       [  2,   3,   4,   5],\n       [  3,   4,   5,   6]])"
      ]
     },
     "execution_count": 54,
     "metadata": {},
     "output_type": "execute_result"
    }
   ],
   "source": [
    "A4[0, 1:6] = 200\n",
    "A"
   ]
  },
  {
   "cell_type": "markdown",
   "metadata": {},
   "source": [
    "You can also reshape the array in place:"
   ]
  },
  {
   "cell_type": "code",
   "execution_count": 55,
   "metadata": {
    "collapsed": true
   },
   "outputs": [
    {
     "data": {
      "text/plain": [
       "array([[  0, 200, 200, 200, 200, 200,   3,   4],\n       [  2,   3,   4,   5,   3,   4,   5,   6]])"
      ]
     },
     "execution_count": 55,
     "metadata": {},
     "output_type": "execute_result"
    }
   ],
   "source": [
    "A.shape = (2, 8)\n",
    "A"
   ]
  },
  {
   "cell_type": "markdown",
   "metadata": {},
   "source": [
    "Let's calculate the values at many `x` and `y` points:"
   ]
  },
  {
   "cell_type": "code",
   "execution_count": 56,
   "metadata": {
    "collapsed": true
   },
   "outputs": [
    {
     "data": {
      "text/plain": [
       "array([1, 2, 3, 2, 3, 4, 3, 4, 5, 4, 5, 6, 5, 6, 7, 0, 0, 0, 0, 0])"
      ]
     },
     "execution_count": 56,
     "metadata": {},
     "output_type": "execute_result"
    }
   ],
   "source": [
    "F = np.array([[m + n + 1 for m in np.arange(3)] for n in np.arange(5)])  # 5 x 3 2D arrays with a size of 15\n",
    "F.resize(20)  # we change the size from 15 to 20\n",
    "F"
   ]
  },
  {
   "cell_type": "markdown",
   "metadata": {},
   "source": [
    "If the new size if larger than the old one, `0` will be used to fill in the gaps. "
   ]
  },
  {
   "cell_type": "markdown",
   "metadata": {},
   "source": [
    "#### Array axis\n",
    "NumPy allows users to apply operations on specific axis of arrays, the dimension of which is greater than 1."
   ]
  },
  {
   "cell_type": "code",
   "execution_count": 57,
   "metadata": {
    "collapsed": true
   },
   "outputs": [
    {
     "data": {
      "text/plain": [
       "array([[1, 2, 3],\n       [2, 3, 4],\n       [3, 4, 5],\n       [4, 5, 6],\n       [5, 6, 7]])"
      ]
     },
     "execution_count": 57,
     "metadata": {},
     "output_type": "execute_result"
    }
   ],
   "source": [
    "F = np.array([[m + n + 1 for m in np.arange(3)] for n in np.arange(5)])\n",
    "F"
   ]
  },
  {
   "cell_type": "code",
   "execution_count": 58,
   "metadata": {
    "collapsed": true
   },
   "outputs": [
    {
     "data": {
      "text/plain": [
       "array([ 6,  9, 12, 15, 18])"
      ]
     },
     "execution_count": 58,
     "metadata": {},
     "output_type": "execute_result"
    }
   ],
   "source": [
    "F.sum(axis=1)"
   ]
  },
  {
   "cell_type": "markdown",
   "metadata": {},
   "source": [
    "We can add new axis to convert a column vector to a row vector, or the other way round."
   ]
  },
  {
   "cell_type": "code",
   "execution_count": 59,
   "metadata": {
    "collapsed": true
   },
   "outputs": [
    {
     "data": {
      "text/plain": [
       "array([1, 2, 3, 4, 5])"
      ]
     },
     "execution_count": 59,
     "metadata": {},
     "output_type": "execute_result"
    }
   ],
   "source": [
    "F = np.array([1, 2, 3, 4, 5])\n",
    "F"
   ]
  },
  {
   "cell_type": "code",
   "execution_count": 60,
   "metadata": {
    "collapsed": true
   },
   "outputs": [
    {
     "data": {
      "text/plain": [
       "(5,)"
      ]
     },
     "execution_count": 60,
     "metadata": {},
     "output_type": "execute_result"
    }
   ],
   "source": [
    "F.shape"
   ]
  },
  {
   "cell_type": "code",
   "execution_count": 61,
   "metadata": {
    "collapsed": true
   },
   "outputs": [
    {
     "data": {
      "text/plain": [
       "array([[1],\n       [2],\n       [3],\n       [4],\n       [5]])"
      ]
     },
     "execution_count": 61,
     "metadata": {},
     "output_type": "execute_result"
    }
   ],
   "source": [
    "F[:, np.newaxis]"
   ]
  },
  {
   "cell_type": "code",
   "execution_count": 62,
   "metadata": {
    "collapsed": true
   },
   "outputs": [
    {
     "data": {
      "text/plain": [
       "(5, 1)"
      ]
     },
     "execution_count": 62,
     "metadata": {},
     "output_type": "execute_result"
    }
   ],
   "source": [
    "F[:, np.newaxis].shape"
   ]
  },
  {
   "cell_type": "markdown",
   "metadata": {},
   "source": [
    "#### Stacking, splitting and repeating arrays\n",
    "Several arrays can be stacked together along different axes using the `vstack`, `hstack` and `concatenate` functions. `vstack` and `hstack` stack two arrays along vertical and horizontal axis respectively, while `concatenate` allows to specify the axis along which concatenate should occur. "
   ]
  },
  {
   "cell_type": "code",
   "execution_count": 63,
   "metadata": {
    "collapsed": true
   },
   "outputs": [
    {
     "data": {
      "text/plain": [
       "array([[ 1,  2,  3],\n       [ 4,  5,  6],\n       [10, 20, 30],\n       [40, 50, 60]])"
      ]
     },
     "execution_count": 63,
     "metadata": {},
     "output_type": "execute_result"
    }
   ],
   "source": [
    "a = np.array([[1, 2, 3], [4, 5, 6]])\n",
    "b = np.array([[10, 20, 30], [40, 50, 60]])\n",
    "np.vstack([a, b])"
   ]
  },
  {
   "cell_type": "code",
   "execution_count": 64,
   "metadata": {
    "collapsed": true
   },
   "outputs": [
    {
     "data": {
      "text/plain": [
       "array([[ 1,  2,  3, 10, 20, 30],\n       [ 4,  5,  6, 40, 50, 60]])"
      ]
     },
     "execution_count": 64,
     "metadata": {},
     "output_type": "execute_result"
    }
   ],
   "source": [
    "np.hstack([a, b])"
   ]
  },
  {
   "cell_type": "code",
   "execution_count": 65,
   "metadata": {
    "collapsed": true
   },
   "outputs": [
    {
     "data": {
      "text/plain": [
       "array([[ 1,  2,  3],\n       [ 4,  5,  6],\n       [10, 20, 30],\n       [40, 50, 60]])"
      ]
     },
     "execution_count": 65,
     "metadata": {},
     "output_type": "execute_result"
    }
   ],
   "source": [
    "np.concatenate((a, b), axis=0)"
   ]
  },
  {
   "cell_type": "code",
   "execution_count": 66,
   "metadata": {
    "collapsed": true
   },
   "outputs": [
    {
     "data": {
      "text/plain": [
       "array([[ 1,  2,  3, 10, 20, 30],\n       [ 4,  5,  6, 40, 50, 60]])"
      ]
     },
     "execution_count": 66,
     "metadata": {},
     "output_type": "execute_result"
    }
   ],
   "source": [
    "np.concatenate((a, b), axis=1)"
   ]
  },
  {
   "cell_type": "markdown",
   "metadata": {},
   "source": [
    "Similarly, to split an array to several sub-arrays, use `vsplit` and `hsplit` functions."
   ]
  },
  {
   "cell_type": "code",
   "execution_count": 67,
   "metadata": {
    "collapsed": true
   },
   "outputs": [
    {
     "data": {
      "text/plain": [
       "[array([[1, 2, 3]]), array([[4, 5, 6]])]"
      ]
     },
     "execution_count": 67,
     "metadata": {},
     "output_type": "execute_result"
    }
   ],
   "source": [
    "np.vsplit(a, 2)  # split into 2 arrays"
   ]
  },
  {
   "cell_type": "code",
   "execution_count": 68,
   "metadata": {
    "collapsed": true
   },
   "outputs": [
    {
     "data": {
      "text/plain": [
       "[array([[1],\n        [4]]), array([[2],\n        [5]]), array([[3],\n        [6]])]"
      ]
     },
     "execution_count": 68,
     "metadata": {},
     "output_type": "execute_result"
    }
   ],
   "source": [
    "np.hsplit(a, 3)  # split into 2 arrays"
   ]
  },
  {
   "cell_type": "code",
   "execution_count": 69,
   "metadata": {
    "collapsed": true
   },
   "outputs": [
    {
     "data": {
      "text/plain": [
       "[array([[1],\n        [4]]), array([[2],\n        [5]]), array([[3],\n        [6]])]"
      ]
     },
     "execution_count": 69,
     "metadata": {},
     "output_type": "execute_result"
    }
   ],
   "source": [
    "np.hsplit(a, (1, 2))  # split after the first and second column"
   ]
  },
  {
   "cell_type": "markdown",
   "metadata": {},
   "source": [
    "We can repeat an array to construct a larger array using the `repeat` and `tile` functions."
   ]
  },
  {
   "cell_type": "code",
   "execution_count": 70,
   "metadata": {
    "collapsed": true
   },
   "outputs": [
    {
     "data": {
      "text/plain": [
       "array([1, 1, 1, 2, 2, 2, 3, 3, 3, 4, 4, 4, 5, 5, 5, 6, 6, 6])"
      ]
     },
     "execution_count": 70,
     "metadata": {},
     "output_type": "execute_result"
    }
   ],
   "source": [
    "np.repeat(a, 3)  # Repeat a by 3 times "
   ]
  },
  {
   "cell_type": "code",
   "execution_count": 71,
   "metadata": {
    "collapsed": true
   },
   "outputs": [
    {
     "data": {
      "text/plain": [
       "array([[1, 2, 3, 1, 2, 3, 1, 2, 3],\n       [4, 5, 6, 4, 5, 6, 4, 5, 6]])"
      ]
     },
     "execution_count": 71,
     "metadata": {},
     "output_type": "execute_result"
    }
   ],
   "source": [
    "np.tile(a, 3)  # 3 tiles"
   ]
  },
  {
   "cell_type": "code",
   "execution_count": 72,
   "metadata": {
    "collapsed": true
   },
   "outputs": [
    {
     "data": {
      "text/plain": [
       "array([[1, 2, 3, 4, 5],\n       [1, 2, 3, 4, 5],\n       [1, 2, 3, 4, 5]])"
      ]
     },
     "execution_count": 72,
     "metadata": {},
     "output_type": "execute_result"
    }
   ],
   "source": [
    "# clone a row vector 3 times to form a 2D array\n",
    "b = np.array([1, 2, 3, 4, 5])\n",
    "np.repeat(b[np.newaxis, :], 3, 0)"
   ]
  },
  {
   "cell_type": "code",
   "execution_count": 73,
   "metadata": {
    "collapsed": true
   },
   "outputs": [
    {
     "data": {
      "text/plain": [
       "array([[1, 2, 3, 4, 5],\n       [1, 2, 3, 4, 5],\n       [1, 2, 3, 4, 5]])"
      ]
     },
     "execution_count": 73,
     "metadata": {},
     "output_type": "execute_result"
    }
   ],
   "source": [
    "# Or use the tile function\n",
    "np.tile(b, (3, 1))  # repeat b 3 times in row and 1 in column"
   ]
  },
  {
   "cell_type": "markdown",
   "metadata": {},
   "source": [
    "#### Conditions\n",
    "In practice, it is very common to manipulate arrays conditionally. `np.where` function can process the elements that satisfy the condtions specified by users. See the examples below:"
   ]
  },
  {
   "cell_type": "code",
   "execution_count": 74,
   "metadata": {
    "collapsed": true
   },
   "outputs": [
    {
     "data": {
      "text/plain": [
       "array([[ 1,  2,  3,  4,  5,  6,  7,  8],\n       [ 2,  3,  4,  5,  6,  7,  8,  9],\n       [ 3,  4,  5,  6,  7,  8,  9, 10]])"
      ]
     },
     "execution_count": 74,
     "metadata": {},
     "output_type": "execute_result"
    }
   ],
   "source": [
    "c = np.array([[m + n + 1 for m in np.arange(8)] for n in np.arange(3)])\n",
    "c"
   ]
  },
  {
   "cell_type": "code",
   "execution_count": 75,
   "metadata": {
    "collapsed": true
   },
   "outputs": [
    {
     "data": {
      "text/plain": [
       "array([[ 1,  2,  3,  1,  1,  1,  1,  8],\n       [ 2,  3,  1,  1,  1,  1,  8,  9],\n       [ 3,  1,  1,  1,  1,  8,  9, 10]])"
      ]
     },
     "execution_count": 75,
     "metadata": {},
     "output_type": "execute_result"
    }
   ],
   "source": [
    "# If 8 > value > 3, set value = 1;\n",
    "c[np.where((c > 3) & (c < 8))] = 1\n",
    "c"
   ]
  },
  {
   "cell_type": "code",
   "execution_count": 76,
   "metadata": {
    "collapsed": true
   },
   "outputs": [
    {
     "data": {
      "text/plain": [
       "array([[-2, -1,  0,  1,  2,  3,  4,  5],\n       [-1,  0,  1,  2,  3,  4,  5,  6],\n       [ 0,  1,  2,  3,  4,  5,  6,  7]])"
      ]
     },
     "execution_count": 76,
     "metadata": {},
     "output_type": "execute_result"
    }
   ],
   "source": [
    "# another array that has the same shape\n",
    "d = np.array([[m + n - 2 for m in np.arange(8)] for n in np.arange(3)])\n",
    "d"
   ]
  },
  {
   "cell_type": "code",
   "execution_count": 77,
   "metadata": {
    "collapsed": true
   },
   "outputs": [
    {
     "data": {
      "text/plain": [
       "array([[ 1,  2,  3,  1,  2,  3,  4,  8],\n       [ 2,  3,  1,  2,  3,  4,  8,  9],\n       [ 3,  1,  2,  3,  4,  8,  9, 10]])"
      ]
     },
     "execution_count": 77,
     "metadata": {},
     "output_type": "execute_result"
    }
   ],
   "source": [
    "# get the bigger elements of two arrays\n",
    "np.where(c > d, c, d)  # if condition is true, take element from c, otherwise from d."
   ]
  },
  {
   "cell_type": "markdown",
   "metadata": {},
   "source": [
    "#### Broadcasting\n",
    "Broadcasting is a powerful feature of Numpy. As mentioned previously, array operations in Numpy are elementwise and work on arrays of the same size. However, it is also possible to perform operations on arrays of different sizes if the arrays can be transformed to the same shapes by following certain rules. Such transformation is called _broadcasting_. It allows Numpy to operate arrays that have different dimensions.\n",
    "\n",
    "The dimensions of two arrays are compatible when they are equal or one of them is 1. If the two conditions are met, then array operations can be performed. Otherwise, Python will throw an error. Broadcasting occurs by following the two rules below:\n",
    "\n",
    "* If the number of the dimensions of two arrays is different ( e.g. shape (3, 4) and shape (4) ),  a “1” will be repeatedly prepended to the shapes of the smaller arrays until all the arrays have the same number of dimensions (e.g. shape (4) -> shape (1, 4))\n",
    "* Start with the trailing dimensions and work its way forward. If the size of an array along a dimension is 1, then the size is stretched to be as the same as that of another array. The values of the first data entry in that dimension will be used repeatedly along the stretched dimension\n",
    "\n",
    "See the example below:"
   ]
  },
  {
   "cell_type": "code",
   "execution_count": 78,
   "metadata": {
    "collapsed": true
   },
   "outputs": [
    {
     "data": {
      "text/plain": [
       "array([[0, 1, 2, 3, 4, 5, 6, 7],\n       [1, 2, 3, 4, 5, 6, 7, 8],\n       [2, 3, 4, 5, 6, 7, 8, 9]])"
      ]
     },
     "execution_count": 78,
     "metadata": {},
     "output_type": "execute_result"
    }
   ],
   "source": [
    "a1 = np.array([[m + n for m in np.arange(8)] for n in np.arange(3)])  # shape (3, 8)\n",
    "a1"
   ]
  },
  {
   "cell_type": "code",
   "execution_count": 79,
   "metadata": {
    "collapsed": true
   },
   "outputs": [
    {
     "data": {
      "text/plain": [
       "array([0, 1, 2, 3, 4, 5, 6, 7])"
      ]
     },
     "execution_count": 79,
     "metadata": {},
     "output_type": "execute_result"
    }
   ],
   "source": [
    "a2 = np.arange(8)  # shape (8,)\n",
    "a2"
   ]
  },
  {
   "cell_type": "code",
   "execution_count": 80,
   "metadata": {
    "collapsed": true
   },
   "outputs": [
    {
     "data": {
      "text/plain": [
       "array([[ 0,  2,  4,  6,  8, 10, 12, 14],\n       [ 1,  3,  5,  7,  9, 11, 13, 15],\n       [ 2,  4,  6,  8, 10, 12, 14, 16]])"
      ]
     },
     "execution_count": 80,
     "metadata": {},
     "output_type": "execute_result"
    }
   ],
   "source": [
    "a1 + a2  # a1 and a2 have different shapes, but we can still perform operations"
   ]
  },
  {
   "cell_type": "markdown",
   "metadata": {},
   "source": [
    "Let’s split the broadcasting steps manually. Apply the first rule first:"
   ]
  },
  {
   "cell_type": "code",
   "execution_count": 81,
   "metadata": {
    "collapsed": true
   },
   "outputs": [
    {
     "data": {
      "text/plain": [
       "(1, 8)"
      ]
     },
     "execution_count": 81,
     "metadata": {},
     "output_type": "execute_result"
    }
   ],
   "source": [
    "a2 = a2[np.newaxis, :]  # see np.newaxis examples in previous sections\n",
    "a2.shape"
   ]
  },
  {
   "cell_type": "markdown",
   "metadata": {},
   "source": [
    "Now array a2 has the same number of dimensions as a1 (*ndim*), which is 2. But a1 and a2 still have different shapes. Following rule 2, we repeat a2 3 times along its first dimension by using np.repeat function:  "
   ]
  },
  {
   "cell_type": "code",
   "execution_count": 82,
   "metadata": {
    "collapsed": true
   },
   "outputs": [
    {
     "data": {
      "text/plain": [
       "array([[0, 1, 2, 3, 4, 5, 6, 7],\n       [0, 1, 2, 3, 4, 5, 6, 7],\n       [0, 1, 2, 3, 4, 5, 6, 7]])"
      ]
     },
     "execution_count": 82,
     "metadata": {},
     "output_type": "execute_result"
    }
   ],
   "source": [
    "a2 = np.repeat(a2, 3, 0)\n",
    "a2"
   ]
  },
  {
   "cell_type": "code",
   "execution_count": 83,
   "metadata": {
    "collapsed": true
   },
   "outputs": [
    {
     "data": {
      "text/plain": [
       "array([[ 0,  2,  4,  6,  8, 10, 12, 14],\n       [ 1,  3,  5,  7,  9, 11, 13, 15],\n       [ 2,  4,  6,  8, 10, 12, 14, 16]])"
      ]
     },
     "execution_count": 83,
     "metadata": {},
     "output_type": "execute_result"
    }
   ],
   "source": [
    "# now a1 and a2 have the same shapes\n",
    "a1 + a2"
   ]
  },
  {
   "cell_type": "markdown",
   "metadata": {},
   "source": [
    "#### Vectorisation\n",
    "The key element of NumPy is about vectorisation that is the main difficulty of Python for the performance of scientific computing. So far you have already seen a lot of vectorised operations applied on NumPy arrays and matrices by using the build-in NumPy functions (such as `np.add()`, `np.dot()`, and `np.multiply()`). These operations are in a way of element-wise and occur concurrently. Let’s compare the performance of two different implementations of function $f(x, y) = x^2 + y^2$:"
   ]
  },
  {
   "cell_type": "code",
   "execution_count": 84,
   "metadata": {},
   "outputs": [],
   "source": [
    "def python_f(x, y):\n",
    "    return [x**2 + y**2 for (x, y) in zip(x, y)]\n",
    "\n",
    "\n",
    "def numpy_f(x, y):\n",
    "    return x**2 + y**2"
   ]
  },
  {
   "cell_type": "markdown",
   "metadata": {},
   "source": [
    "Let's calculate the values at many `x` and `y` points:"
   ]
  },
  {
   "cell_type": "code",
   "execution_count": 85,
   "metadata": {
    "collapsed": true
   },
   "outputs": [
    {
     "name": "stdout",
     "output_type": "stream",
     "text": [
      "1.2 ms ± 73.7 µs per loop (mean ± std. dev. of 7 runs, 1000 loops each)\n"
     ]
    }
   ],
   "source": [
    "# Python\n",
    "x, y = range(1000), range(1000)\n",
    "%timeit python_f(x, y)"
   ]
  },
  {
   "cell_type": "code",
   "execution_count": 86,
   "metadata": {
    "collapsed": true
   },
   "outputs": [
    {
     "name": "stdout",
     "output_type": "stream",
     "text": [
      "7.85 µs ± 1.07 µs per loop (mean ± std. dev. of 7 runs, 100000 loops each)\n"
     ]
    }
   ],
   "source": [
    "# NumPy\n",
    "x, y = np.arange(1000), np.arange(1000)\n",
    "%timeit numpy_f(x, y)"
   ]
  },
  {
   "cell_type": "markdown",
   "metadata": {},
   "source": [
    "The NumPy version is about 170x faster by vectorising the for loop, that is the devil that hinders the performance of Python code. Whenever possible, avoid explicit for loops in Python. Apart from the vectorisation of explicit arithmetic operations, we can also vectorise for loops with conditions inside by using NumPy functions such as `np.where`. See the example below:"
   ]
  },
  {
   "cell_type": "code",
   "execution_count": 87,
   "metadata": {},
   "outputs": [],
   "source": [
    "# Python version\n",
    "def python_f2(x, mask):\n",
    "    for i in range(x.shape[0]):\n",
    "        for j in range(x.shape[1]):\n",
    "            if mask[i, j] > 0.6:\n",
    "                x[i, j] = 1.\n",
    "            elif mask[i, j] < 0.3:\n",
    "                x[i, j] = -1.\n",
    "            else:\n",
    "                x[i, j] = 0.\n",
    "                \n",
    "\n",
    "# NumPy version\n",
    "def numpy_f2(x, mask):\n",
    "    x[np.where(mask > 0.6)] = 1.\n",
    "    x[np.where(mask < 0.3)] = -1.\n",
    "    x[np.where(np.logical_and(mask <= 0.6, mask >= 0.3))] = 0."
   ]
  },
  {
   "cell_type": "code",
   "execution_count": 88,
   "metadata": {
    "collapsed": true
   },
   "outputs": [
    {
     "name": "stdout",
     "output_type": "stream",
     "text": [
      "7.41 ms ± 349 µs per loop (mean ± std. dev. of 7 runs, 100 loops each)\n"
     ]
    }
   ],
   "source": [
    "X = np.arange(10000).reshape(100, 100)\n",
    "mask = np.random.rand(100, 100)\n",
    "%timeit python_f2(X, mask)"
   ]
  },
  {
   "cell_type": "code",
   "execution_count": 89,
   "metadata": {
    "collapsed": true
   },
   "outputs": [
    {
     "name": "stdout",
     "output_type": "stream",
     "text": [
      "455 µs ± 9.62 µs per loop (mean ± std. dev. of 7 runs, 1000 loops each)\n"
     ]
    }
   ],
   "source": [
    "%timeit numpy_f2(X, mask)"
   ]
  },
  {
   "cell_type": "markdown",
   "metadata": {},
   "source": [
    "The examples described above are straightforward for vectorisation because the problems to be solved are inherently vectorisable and users can identify where the code can be vectorised without too much effort. However, in many cases vectorizability of problems is implicitly and users need to rethink the problems to make them vectorisable by using a different algorithm or inventing a new one. This requires not only a profound understanding on NumPy, but also significant practical experience on solving such problems.\n",
    "\n",
    "Let’s consider a simple problem: compute the sum of $A[i, j] \\times i \\times j$ where $A[i, j]$ is a 2D array and $i, j$ are indices. The simple implementation can be written to:"
   ]
  },
  {
   "cell_type": "code",
   "execution_count": 90,
   "metadata": {},
   "outputs": [],
   "source": [
    "def python_f3(A):\n",
    "    val = 0.\n",
    "    for i in range(A.shape[0]):\n",
    "        for j in range(A.shape[1]):\n",
    "            val += A[i, j] * i * j\n",
    "    return val"
   ]
  },
  {
   "cell_type": "code",
   "execution_count": 91,
   "metadata": {
    "collapsed": true
   },
   "outputs": [
    {
     "name": "stdout",
     "output_type": "stream",
     "text": [
      "28.4 ms ± 2.47 ms per loop (mean ± std. dev. of 7 runs, 10 loops each)\n"
     ]
    }
   ],
   "source": [
    "A = np.arange(30000, dtype=np.float64).reshape(300, 100)\n",
    "%timeit python_f3(A)"
   ]
  },
  {
   "cell_type": "code",
   "execution_count": 92,
   "metadata": {
    "collapsed": true
   },
   "outputs": [
    {
     "name": "stdout",
     "output_type": "stream",
     "text": [
      "422 µs ± 16.2 µs per loop (mean ± std. dev. of 7 runs, 1000 loops each)\n"
     ]
    }
   ],
   "source": [
    "def numpy_f3(A):\n",
    "    idx_i = np.tile(np.arange(A.shape[0])[:, np.newaxis], (1, A.shape[1]))\n",
    "    idx_j = np.tile(np.arange(A.shape[1]), (A.shape[0], 1))\n",
    "    return np.sum(np.sum(A * idx_i * idx_j))\n",
    "\n",
    "%timeit numpy_f3(A)"
   ]
  },
  {
   "cell_type": "markdown",
   "metadata": {},
   "source": [
    "Now the vectorised version is approximately 70x faster. To make the operation $A[i, j] * i * j$ vectorisable, we have constructed two new 2D arrays `idx_i` and `idx_j` that have the same shape as that of array `A` and contain the index values corresponding to each $A[i, j]$.\n",
    "\n",
    "We can even make it better by using `broadcasting`. `idx_i` and `idx_j` are 2D arrays consisting of repeated vectors in column and row respectively. So we don’t have to construct such two 2D arrays `idx_i` and `idx_j` because NumPy will repeat them automatically by following its broadcasting rules when operation occurs. See  a better implementation below:   "
   ]
  },
  {
   "cell_type": "code",
   "execution_count": 93,
   "metadata": {
    "collapsed": true
   },
   "outputs": [
    {
     "name": "stdout",
     "output_type": "stream",
     "text": [
      "181 µs ± 39.2 µs per loop (mean ± std. dev. of 7 runs, 1000 loops each)\n"
     ]
    }
   ],
   "source": [
    "def numpy_f3_bd(A):\n",
    "    idx_i = np.arange(A.shape[0])[:, np.newaxis]\n",
    "    idx_j = np.arange(A.shape[1])\n",
    "    return np.sum(np.sum(A * idx_i * idx_j))\n",
    "\n",
    "%timeit numpy_f3_bd(A)"
   ]
  },
  {
   "cell_type": "markdown",
   "metadata": {},
   "source": [
    "A better version means: extra ~2.5x performance gain and less code. \n",
    "\n",
    "As you can see, vectorisation can improve the computational performance dramatically with several orders of magnitude for many cases. Explicit implementation is always straightforward and logically clear, but it sacrifices computational efficiency. if speed is your concern, first try to rethink your problems and find alternatives that might be complicated logically but more efficient in the speed of your code. Then optimise the specific pieces of the code (functions, for loops and etc) if possiable.  "
   ]
  },
  {
   "cell_type": "markdown",
   "metadata": {},
   "source": [
    "------\n",
    "\n",
    "### More reading\n",
    "* [Scipy lectures - NumPy](https://www.scipy-lectures.org/intro/numpy/index.html)\n",
    "* [NumPy User Guide](https://docs.scipy.org/doc/numpy/user/index.html)\n",
    "* [From Python to NumPy](https://github.com/rougier/from-python-to-numpy)"
   ]
  }
 ],
 "metadata": {
  "kernelspec": {
   "display_name": "Python 3",
   "language": "python",
   "name": "python3"
  },
  "language_info": {
   "codemirror_mode": {
    "name": "ipython",
    "version": 3
   },
   "file_extension": ".py",
   "mimetype": "text/x-python",
   "name": "python",
   "nbconvert_exporter": "python",
   "pygments_lexer": "ipython3",
   "version": "3.6.3"
  }
 },
 "nbformat": 4,
 "nbformat_minor": 1
}
