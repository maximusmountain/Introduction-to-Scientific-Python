{
 "cells": [
  {
   "cell_type": "markdown",
   "metadata": {
    "collapsed": true
   },
   "source": [
    "<img align=\"left\" src=\"./img/lu.png\" hspace=\"20\"/> <img align=\"right\" src=\"./img/midlands+.png\"/> \n",
    "<br/><br/><br/><br/><br/><br/><br/>\n",
    "\n",
    "## Introduction to Python language\n",
    "\n",
    "------\n",
    "\n",
    "### Virtual Environments\n",
    "Except the Python standard libraries, scientific applications commonly use third party Python packages that are decentralised and spread out at different resources. Each package as well as Python itself has a number of versions that have bugs fixed or/and new features added in. Different applications may work with different version of a package. It happens when a package has been updated to a newer version the code is no longer working. Therefore one installation of Python and its packages is not enough to work with various applications.\n",
    "\n",
    "The Python Virtual Environment (hereafter VE), a self-contained directory that contains a particular version of Python and packages, can be used to install a specific Python and necessary external packages for a application. By doing so different applications will not be interfered each other.\n",
    "\n",
    "#### To create a Python VE:\n",
    "* Python 2\n",
    "\n",
    "\t[virtualenv](https://virtualenv.pypa.io/en/stable/) should be installed first. For how to use virtualenv, see [here](https://virtualenv.pypa.io/en/stable/userguide/#activate-script)\n",
    "```bash\n",
    "virtualenv myproj_ve\n",
    "```\n",
    "\n",
    "* Python 3\n",
    "```bash\n",
    "python -m venv myproj_ve\n",
    "```\n",
    "\n",
    "Within the folder *myproj_ve*, a copy of Python that has no external packages installed has been created. \n",
    "\n",
    "#### Install a package within VE:\n",
    "```\n",
    "/path-to-VM/bin/pip install package-name         # on Linux\n",
    "\\path-to-VM\\Scripts\\pip.exe install package-name # on Windows\n",
    "```\n",
    "\n",
    "See the example below:\n",
    "\n",
    "<img src=\"./img/create_VM.png\"/>\n",
    "\n",
    "------\n",
    "\n",
    "### First Python program\n",
    "Python code is generally executed by the Python interpreter (_Python_) without compiling the code to a stand-alone executable, although you can do so by using e.g. [pyinstaller](http://www.pyinstaller.org/). There are different Python environments which we can work on.\n",
    "* Interactive mode\n",
    "\n",
    "\tRun Python code through a Python interactive runtime environment, e.g. [IPython](https://ipython.org/). No Python file (_.py_) is created.\t       "
   ]
  },
  {
   "cell_type": "code",
   "execution_count": 1,
   "metadata": {
    "collapsed": true
   },
   "outputs": [
    {
     "name": "stdout",
     "output_type": "stream",
     "text": [
      "This year is 2018.\n"
     ]
    }
   ],
   "source": [
    "from __future__ import print_function  # to make sure that the print statement works with both Python 2 and 3.\n",
    "from datetime import date  # before we use a package, we need to import it first.\n",
    "\n",
    "def get_year_of_today():  # a function to get the year number of today\n",
    "    return date.today().year\n",
    "\n",
    "print(\"This year is %s.\" % get_year_of_today())  # call function get_year_of_today and print the result."
   ]
  },
  {
   "cell_type": "markdown",
   "metadata": {},
   "source": [
    "To see what symbols the imported modules provide, use the `dir` function:"
   ]
  },
  {
   "cell_type": "code",
   "execution_count": 2,
   "metadata": {
    "collapsed": true
   },
   "outputs": [
    {
     "name": "stdout",
     "output_type": "stream",
     "text": [
      "['__all__', '__builtins__', '__cached__', '__doc__', '__file__', '__loader__', '__name__', '__package__', '__spec__', '_get_bothseps', '_getfinalpathname', '_getfullpathname', '_getvolumepathname', 'abspath', 'altsep', 'basename', 'commonpath', 'commonprefix', 'curdir', 'defpath', 'devnull', 'dirname', 'exists', 'expanduser', 'expandvars', 'extsep', 'genericpath', 'getatime', 'getctime', 'getmtime', 'getsize', 'isabs', 'isdir', 'isfile', 'islink', 'ismount', 'join', 'lexists', 'normcase', 'normpath', 'os', 'pardir', 'pathsep', 'realpath', 'relpath', 'samefile', 'sameopenfile', 'samestat', 'sep', 'split', 'splitdrive', 'splitext', 'splitunc', 'stat', 'supports_unicode_filenames', 'sys']\n"
     ]
    }
   ],
   "source": [
    "import os.path\n",
    "print(dir(os.path))"
   ]
  },
  {
   "cell_type": "markdown",
   "metadata": {},
   "source": [
    "To see the description of a function, use help:"
   ]
  },
  {
   "cell_type": "code",
   "execution_count": 3,
   "metadata": {
    "collapsed": true
   },
   "outputs": [
    {
     "name": "stdout",
     "output_type": "stream",
     "text": [
      "Help on function join in module ntpath:\n\njoin(path, *paths)\n    # Join two (or more) paths.\n\n"
     ]
    }
   ],
   "source": [
    "import os.path\n",
    "help(os.path.join)"
   ]
  },
  {
   "cell_type": "markdown",
   "metadata": {},
   "source": [
    "* Non-interactive mode\n",
    "\n",
    "\tCreate a Python file that has a file extension of _.py_ (e.g. my_prog.py) and copy the code above to the file. Run the following command in a shell.\n",
    "```bash\n",
    "$ python my_prog.py\n",
    "```\n",
    "\n",
    "* IDE mode\n",
    "\n",
    "\tMake sure you have a Python-compatiable IDE installed, e.g. [PyCharm](https://www.jetbrains.com/pycharm/). Open `my_prog.py` in IDE and click the run button.\n",
    "\t<img src=\"./img/my_prog.png\"/>\n",
    "\n",
    "------\n"
   ]
  },
  {
   "cell_type": "markdown",
   "metadata": {},
   "source": [
    "\n",
    "### Data types\n",
    "Python supports the following basic data types: **integer**, **float**, **complex** and **booleans**.\n"
   ]
  },
  {
   "cell_type": "code",
   "execution_count": 4,
   "metadata": {
    "collapsed": true
   },
   "outputs": [
    {
     "data": {
      "text/plain": [
       "int"
      ]
     },
     "execution_count": 4,
     "metadata": {},
     "output_type": "execute_result"
    }
   ],
   "source": [
    "type(5)"
   ]
  },
  {
   "cell_type": "code",
   "execution_count": 5,
   "metadata": {
    "collapsed": true
   },
   "outputs": [
    {
     "data": {
      "text/plain": [
       "float"
      ]
     },
     "execution_count": 5,
     "metadata": {},
     "output_type": "execute_result"
    }
   ],
   "source": [
    "type(3.14)"
   ]
  },
  {
   "cell_type": "code",
   "execution_count": 6,
   "metadata": {
    "collapsed": true
   },
   "outputs": [
    {
     "data": {
      "text/plain": [
       "complex"
      ]
     },
     "execution_count": 6,
     "metadata": {},
     "output_type": "execute_result"
    }
   ],
   "source": [
    "type(1. + 2.5j)"
   ]
  },
  {
   "cell_type": "code",
   "execution_count": 7,
   "metadata": {
    "collapsed": true
   },
   "outputs": [
    {
     "data": {
      "text/plain": [
       "bool"
      ]
     },
     "execution_count": 7,
     "metadata": {},
     "output_type": "execute_result"
    }
   ],
   "source": [
    "type(3 > 5)"
   ]
  },
  {
   "cell_type": "markdown",
   "metadata": {},
   "source": [
    "------\n",
    "\n",
    "### Variables\n",
    "Data is kept in variables. A variable is a name that refers to a value. No declaration of variables is required in Python. Both the value and data type can be changed during runtime."
   ]
  },
  {
   "cell_type": "code",
   "execution_count": 8,
   "metadata": {
    "collapsed": true
   },
   "outputs": [
    {
     "name": "stdout",
     "output_type": "stream",
     "text": [
      "5 has a type of  <class 'int'>\nhello world has a type of  <class 'str'>\nNow 'a' has a value of  10\nNow 'b' has a type of  <class 'float'>\n"
     ]
    }
   ],
   "source": [
    "a = 5\n",
    "b = \"hello world\"\n",
    "print(a, \"has a type of \", type(a))\n",
    "print(b, \"has a type of \", type(b))\n",
    "\n",
    "a = 10\n",
    "b = 12.5\n",
    "print(\"Now 'a' has a value of \", a)\n",
    "print(\"Now 'b' has a type of \", type(b))"
   ]
  },
  {
   "cell_type": "markdown",
   "metadata": {},
   "source": [
    "What happened behind `a = 5`. Let's take a deeper look into it. Remember that everything is objects in Python. This is important for Python language and it affects Python programming in many ways. You will see it later. Integers, floats, lists, functions, classes and etc all are objects. Python variables are references to objects, but the actual data is contained in the objects. So for `a = 5` an integer object `5` is created and assinged to a varibale named `a`. The integer object is stored in memory and `a` is just the name reference pointing to the object. If we assign  `a` to `b` (`b = a`), now both `a` and `b` refer to the integer object `5`. `b` is just the alias of integer object `5`. Read more [here](https://www.python-course.eu/python3_variables.php).\n",
    "\n",
    "Test if variables are of certain types:"
   ]
  },
  {
   "cell_type": "code",
   "execution_count": 9,
   "metadata": {
    "collapsed": true
   },
   "outputs": [
    {
     "data": {
      "text/plain": [
       "True"
      ]
     },
     "execution_count": 9,
     "metadata": {},
     "output_type": "execute_result"
    }
   ],
   "source": [
    "a = 1.849586899\n",
    "type(a) is float"
   ]
  },
  {
   "cell_type": "code",
   "execution_count": 10,
   "metadata": {
    "collapsed": true
   },
   "outputs": [
    {
     "data": {
      "text/plain": [
       "True"
      ]
     },
     "execution_count": 10,
     "metadata": {},
     "output_type": "execute_result"
    }
   ],
   "source": [
    "b = \"hello world\"\n",
    "isinstance(b, str)"
   ]
  },
  {
   "cell_type": "markdown",
   "metadata": {},
   "source": [
    "Type casting:"
   ]
  },
  {
   "cell_type": "code",
   "execution_count": 11,
   "metadata": {
    "collapsed": true
   },
   "outputs": [
    {
     "name": "stdout",
     "output_type": "stream",
     "text": [
      "1 <class 'int'>\n"
     ]
    }
   ],
   "source": [
    "a = 1.5\n",
    "a = int(1.5)\n",
    "print(a, type(a))"
   ]
  },
  {
   "cell_type": "code",
   "execution_count": 12,
   "metadata": {
    "collapsed": true
   },
   "outputs": [
    {
     "name": "stdout",
     "output_type": "stream",
     "text": [
      "4.0 <class 'float'>\n"
     ]
    }
   ],
   "source": [
    "a = 10\n",
    "b = 2.5\n",
    "c = a / b\n",
    "print(c, type(c))"
   ]
  },
  {
   "cell_type": "code",
   "execution_count": 13,
   "metadata": {
    "collapsed": true
   },
   "outputs": [
    {
     "name": "stdout",
     "output_type": "stream",
     "text": [
      "35.69 <class 'float'>\n"
     ]
    }
   ],
   "source": [
    "a = float(\"35.690\")  # str to float\n",
    "print(a, type(a))"
   ]
  },
  {
   "cell_type": "markdown",
   "metadata": {},
   "source": [
    "------\n",
    "\n",
    "### Data structures\n",
    "Python contains the following basic data structures: **list**, **tuples**, **dictionary** and **string**. More complicated data structures can be built on top of the basic ones, e.g. nested lists and dictionaries. Basically the data structures mentioned above are containers that are collections of objects, e.g. a collection of floats or mixed integer, string and even function objects.\n",
    "\n",
    "#### Mutability\n",
    "Mutability is important in Python. Recall _variable names are references pointing to objects_. Let `a = 10, b = a`, then `b = 9.5`. what is the value of `a` now? We have changed `b` and both `a` and `b` are references to the same data object (number `10` for this case). Therefore `a = 9.5???`.     "
   ]
  },
  {
   "cell_type": "code",
   "execution_count": 14,
   "metadata": {
    "collapsed": true
   },
   "outputs": [
    {
     "name": "stdout",
     "output_type": "stream",
     "text": [
      "a =  10\nb =  9.5\n"
     ]
    }
   ],
   "source": [
    "a = 10\n",
    "b = a\n",
    "b = 9.5\n",
    "print(\"a = \", a)\n",
    "print(\"b = \", b)"
   ]
  },
  {
   "cell_type": "markdown",
   "metadata": {},
   "source": [
    "As we can see above `a` is still `10`, not `9.5`. This is because integers are immutable, instead a new float object `9.5` has been created. `a` and `b` now are pointing to different data objects. See another example below: Let `a = [10], b = a`, then `b[0] = 9.5`"
   ]
  },
  {
   "cell_type": "code",
   "execution_count": 15,
   "metadata": {
    "collapsed": true
   },
   "outputs": [
    {
     "name": "stdout",
     "output_type": "stream",
     "text": [
      "a =  [9.5]\nb =  [9.5]\n"
     ]
    }
   ],
   "source": [
    "a = [10]\n",
    "b = a\n",
    "b[0] = 9.5\n",
    "print(\"a = \", a)\n",
    "print(\"b = \", b)"
   ]
  },
  {
   "cell_type": "markdown",
   "metadata": {},
   "source": [
    "`a` has been changed after the change of `b`. `a` and `b` are still pointing to the same data object. We will discuss this in detail later in section _Python functions_.\n",
    "\n",
    "#### List\n",
    "A list is defined as `[..., ..., ...]` and each element is separate by `,`. Lists are mutable. See the following examples:"
   ]
  },
  {
   "cell_type": "code",
   "execution_count": 16,
   "metadata": {
    "collapsed": true
   },
   "outputs": [],
   "source": [
    "a = [1, 2, 3, 4.5, \"James\"]  # contains different data types\n",
    "b = [1, 2, 3, 4.5, \"James\", [10.5, \"David\"]]  # nested list"
   ]
  },
  {
   "cell_type": "markdown",
   "metadata": {},
   "source": [
    "Values can be accessed and changed using slicing method. Or you can add, insert, modify, and remove elements from lists using build-in functions. Note Python index starts with *ZERO* and supports negative indices. "
   ]
  },
  {
   "cell_type": "code",
   "execution_count": 17,
   "metadata": {
    "collapsed": true
   },
   "outputs": [
    {
     "name": "stdout",
     "output_type": "stream",
     "text": [
      "1\n[1, 2, 3]\n[10.5, 'David']\nDavid\n[100.5, 2, 3, 4.5, 'James', [10.5, 'James']]\n[100.5, 2, 3, 4.5, 'James', [10.5, 'James'], 1000, 2000, 'hello']\n[100.5, 2, 3, 4.5, 'James', [10.5, 'James'], 1000, 2000, 'hello', [1000, 2000, 'hello']]\n"
     ]
    }
   ],
   "source": [
    "b = [1, 2, 3, 4.5, \"James\", [10.5, \"David\"]]\n",
    "print(b[0])\n",
    "print(b[0:2])\n",
    "print(b[-1])\n",
    "print(b[5][1])\n",
    "b[0] = 100.5\n",
    "b[5][1] = \"James\"\n",
    "print(b)\n",
    "\n",
    "b.extend([1000, 2000, \"hello\"])\n",
    "print(b)\n",
    "b.append([1000, 2000, \"hello\"])\n",
    "print(b)"
   ]
  },
  {
   "cell_type": "markdown",
   "metadata": {},
   "source": [
    "Use list comprehension and make your code concise and more readable."
   ]
  },
  {
   "cell_type": "code",
   "execution_count": 18,
   "metadata": {
    "collapsed": true
   },
   "outputs": [
    {
     "name": "stdout",
     "output_type": "stream",
     "text": [
      "[16, 25, 36, 49, 64, 81]\n[0, 3, 6, 9, 0, 4, 8, 12]\n[[0, 1, 2], [-1, 0, 1], [-2, -1, 0], [-3, -2, -1]]\n"
     ]
    }
   ],
   "source": [
    "print( [i**2 for i in range(10) if i > 3] )  # with condition\n",
    "print( [i * j for i in range(5) for j in range(6) if i > 2 and j < 4] )  # nested\n",
    "print( [[i - j for i in range(3)] for j in range(4)] )  # nested. 4 x 3 matrix"
   ]
  },
  {
   "cell_type": "markdown",
   "metadata": {},
   "source": [
    "#### Tuples\n",
    "\n",
    "Tuples are similar to lists, except the elements cannot be changed. To define a tuple, use `(..., ..., ...)`:"
   ]
  },
  {
   "cell_type": "code",
   "execution_count": 19,
   "metadata": {
    "collapsed": true
   },
   "outputs": [
    {
     "name": "stdout",
     "output_type": "stream",
     "text": [
      "3\n"
     ]
    },
    {
     "ename": "TypeError",
     "evalue": "'tuple' object does not support item assignment",
     "traceback": [
      "\u001b[1;31m---------------------------------------------------------------------------\u001b[0m",
      "\u001b[1;31mTypeError\u001b[0m                                 Traceback (most recent call last)",
      "\u001b[1;32m<ipython-input-19-b83ad6dffcba>\u001b[0m in \u001b[0;36m<module>\u001b[1;34m()\u001b[0m\n\u001b[0;32m      1\u001b[0m \u001b[0ma\u001b[0m \u001b[1;33m=\u001b[0m \u001b[1;33m(\u001b[0m\u001b[1;36m1\u001b[0m\u001b[1;33m,\u001b[0m \u001b[1;36m2\u001b[0m\u001b[1;33m,\u001b[0m \u001b[1;36m3\u001b[0m\u001b[1;33m,\u001b[0m \u001b[1;36m4\u001b[0m\u001b[1;33m)\u001b[0m\u001b[1;33m\u001b[0m\u001b[0m\n\u001b[0;32m      2\u001b[0m \u001b[0mprint\u001b[0m\u001b[1;33m(\u001b[0m\u001b[0ma\u001b[0m\u001b[1;33m[\u001b[0m\u001b[1;36m2\u001b[0m\u001b[1;33m]\u001b[0m\u001b[1;33m)\u001b[0m\u001b[1;33m\u001b[0m\u001b[0m\n\u001b[1;32m----> 3\u001b[1;33m \u001b[0ma\u001b[0m\u001b[1;33m[\u001b[0m\u001b[1;36m0\u001b[0m\u001b[1;33m]\u001b[0m \u001b[1;33m=\u001b[0m \u001b[1;36m100.\u001b[0m  \u001b[1;31m# you will get an error as tuples are immutable.\u001b[0m\u001b[1;33m\u001b[0m\u001b[0m\n\u001b[0m",
      "\u001b[1;31mTypeError\u001b[0m: 'tuple' object does not support item assignment"
     ],
     "output_type": "error"
    }
   ],
   "source": [
    "a = (1, 2, 3, 4)\n",
    "print(a[2])\n",
    "a[0] = 100.  # you will get an error as tuples are immutable."
   ]
  },
  {
   "cell_type": "markdown",
   "metadata": {},
   "source": [
    "#### Dictionary\n",
    "Dictionaries are also similar to lists, but each element is a key-value pair. The syntax for defining a dictionary is {key1: value1, key2: value2}. Note that the value is mutable while the key is not. Values can be accessed by specifying the key parameters."
   ]
  },
  {
   "cell_type": "code",
   "execution_count": 20,
   "metadata": {
    "collapsed": true
   },
   "outputs": [
    {
     "name": "stdout",
     "output_type": "stream",
     "text": [
      "[1, 5, 9]\ndict_keys(['triangle_x', 'triangle_y'])\ndict_values([[1, 5, 9], [7, -5, 4]])\n{('a', 'b'): 150}\n"
     ]
    },
    {
     "ename": "TypeError",
     "evalue": "unhashable type: 'list'",
     "traceback": [
      "\u001b[1;31m---------------------------------------------------------------------------\u001b[0m",
      "\u001b[1;31mTypeError\u001b[0m                                 Traceback (most recent call last)",
      "\u001b[1;32m<ipython-input-20-9163a5b9ac0a>\u001b[0m in \u001b[0;36m<module>\u001b[1;34m()\u001b[0m\n\u001b[0;32m      6\u001b[0m \u001b[0mb\u001b[0m \u001b[1;33m=\u001b[0m \u001b[1;33m{\u001b[0m\u001b[1;33m(\u001b[0m\u001b[1;34m\"a\"\u001b[0m\u001b[1;33m,\u001b[0m \u001b[1;34m\"b\"\u001b[0m\u001b[1;33m)\u001b[0m\u001b[1;33m:\u001b[0m \u001b[1;36m150\u001b[0m\u001b[1;33m}\u001b[0m  \u001b[1;31m# ok\u001b[0m\u001b[1;33m\u001b[0m\u001b[0m\n\u001b[0;32m      7\u001b[0m \u001b[0mprint\u001b[0m\u001b[1;33m(\u001b[0m\u001b[0mb\u001b[0m\u001b[1;33m)\u001b[0m\u001b[1;33m\u001b[0m\u001b[0m\n\u001b[1;32m----> 8\u001b[1;33m \u001b[0mc\u001b[0m \u001b[1;33m=\u001b[0m \u001b[1;33m{\u001b[0m\u001b[1;33m[\u001b[0m\u001b[1;34m\"a\"\u001b[0m\u001b[1;33m,\u001b[0m \u001b[1;34m\"b\"\u001b[0m\u001b[1;33m]\u001b[0m\u001b[1;33m:\u001b[0m \u001b[1;36m150\u001b[0m\u001b[1;33m}\u001b[0m  \u001b[1;31m# not ok\u001b[0m\u001b[1;33m\u001b[0m\u001b[0m\n\u001b[0m\u001b[0;32m      9\u001b[0m \u001b[0mprint\u001b[0m\u001b[1;33m(\u001b[0m\u001b[0mc\u001b[0m\u001b[1;33m)\u001b[0m\u001b[1;33m\u001b[0m\u001b[0m\n",
      "\u001b[1;31mTypeError\u001b[0m: unhashable type: 'list'"
     ],
     "output_type": "error"
    }
   ],
   "source": [
    "a = { \"triangle_x\": [1, 5, 9], \"triangle_y\": [7, -5, 4] }\n",
    "print(a[\"triangle_x\"])\n",
    "print(a.keys())\n",
    "print(a.values())\n",
    "\n",
    "b = {(\"a\", \"b\"): 150}  # ok\n",
    "print(b)\n",
    "c = {[\"a\", \"b\"]: 150}  # not ok\n",
    "print(c)"
   ]
  },
  {
   "cell_type": "markdown",
   "metadata": {},
   "source": [
    "Dictionary comprehension:"
   ]
  },
  {
   "cell_type": "code",
   "execution_count": 21,
   "metadata": {
    "collapsed": true
   },
   "outputs": [
    {
     "data": {
      "text/plain": [
       "{'ID03': 12, 'ID04': 20, 'ID05': 30}"
      ]
     },
     "execution_count": 21,
     "metadata": {},
     "output_type": "execute_result"
    }
   ],
   "source": [
    "{ 'ID{:002d}'.format(i): i**2 + i for i in range(6) if i > 2 }"
   ]
  },
  {
   "cell_type": "markdown",
   "metadata": {},
   "source": [
    "#### String\n",
    "String is immutable and supports indexing. "
   ]
  },
  {
   "cell_type": "code",
   "execution_count": 22,
   "metadata": {
    "collapsed": true
   },
   "outputs": [
    {
     "name": "stdout",
     "output_type": "stream",
     "text": [
      "y\nPython is a general-purpose language. It features ......\n"
     ]
    }
   ],
   "source": [
    "s = \"Python\"\n",
    "print(s[1])\n",
    "\n",
    "s = s + \" is a general-purpose language.\" + \" It features ......\"\n",
    "print(s)"
   ]
  },
  {
   "cell_type": "markdown",
   "metadata": {},
   "source": [
    "String formating"
   ]
  },
  {
   "cell_type": "code",
   "execution_count": 23,
   "metadata": {
    "collapsed": true
   },
   "outputs": [
    {
     "name": "stdout",
     "output_type": "stream",
     "text": [
      "value1 = 3.14, value2 = 1.5\nvalue1 = 3.14, value2 = 1.5\n"
     ]
    }
   ],
   "source": [
    "s1 = 'value1 = {0:4.2f}, value2 = {1}'.format(3.1415, 1.5)  # new style\n",
    "print(s1)\n",
    "s2 = 'value1 = %4.2f, value2 = %s' % (3.1415, 1.5)  # old style\n",
    "print(s2)"
   ]
  },
  {
   "cell_type": "markdown",
   "metadata": {},
   "source": [
    "Tip: for the purpose of performance, avoid to use `+` operator for string concatenation, use `\"\".join(list)` instead. Every `+` operation involves copying the old content and creating a new string, which is not memory efficient."
   ]
  },
  {
   "cell_type": "code",
   "execution_count": 24,
   "metadata": {
    "collapsed": true
   },
   "outputs": [
    {
     "name": "stdout",
     "output_type": "stream",
     "text": [
      "Python is a general-purpose language. It features ......\nPython is a general-purpose language. It features ......\n"
     ]
    }
   ],
   "source": [
    "# slow\n",
    "s = \"Python \" + \"is \" + \"a \" + \"general-purpose \" + \"language. \" + \"It \" + \"features \" + \"......\"\n",
    "print(s)\n",
    "\n",
    "# faster\n",
    "s = \" \".join([\"Python\", \"is\", \"a\", \"general-purpose\", \"language.\", \"It\", \"features\", \"......\"])\n",
    "print(s)"
   ]
  },
  {
   "cell_type": "markdown",
   "metadata": {},
   "source": [
    "------\n",
    "\n",
    "### Control flow\n",
    "#### if-elif-else\n",
    "Note that the extend of a block is defined by its indentation level. Expressions within each block must be indented.  "
   ]
  },
  {
   "cell_type": "code",
   "execution_count": 25,
   "metadata": {
    "collapsed": true
   },
   "outputs": [
    {
     "name": "stdout",
     "output_type": "stream",
     "text": [
      "3 =< a <= 10\n"
     ]
    }
   ],
   "source": [
    "a = 10.\n",
    "if a > 10.:\n",
    "    print('a > 10.')\n",
    "elif a < 3.:\n",
    "    print(\"a < 3.\")\n",
    "else:\n",
    "    print(\"3 =< a <= 10\")"
   ]
  },
  {
   "cell_type": "markdown",
   "metadata": {},
   "source": [
    "Equality (_==_) and identity (_is_)"
   ]
  },
  {
   "cell_type": "code",
   "execution_count": 26,
   "metadata": {
    "collapsed": true
   },
   "outputs": [
    {
     "name": "stdout",
     "output_type": "stream",
     "text": [
      "True\nTrue\n1451516192 1451516192\n"
     ]
    }
   ],
   "source": [
    "a = 3\n",
    "b = a\n",
    "print(b == a)\n",
    "print(b is a)\n",
    "print(id(a), id(b))"
   ]
  },
  {
   "cell_type": "code",
   "execution_count": 27,
   "metadata": {
    "collapsed": true
   },
   "outputs": [
    {
     "name": "stdout",
     "output_type": "stream",
     "text": [
      "True\nFalse\n1451516192 2355844712296\n"
     ]
    }
   ],
   "source": [
    "a = 3  # int\n",
    "b = 3.0  # float\n",
    "print(b == a)\n",
    "print(b is a)\n",
    "print(id(a), id(b))"
   ]
  },
  {
   "cell_type": "code",
   "execution_count": 28,
   "metadata": {
    "collapsed": true
   },
   "outputs": [
    {
     "name": "stdout",
     "output_type": "stream",
     "text": [
      "True\nTrue\n2355826966664 2355826966664\n"
     ]
    }
   ],
   "source": [
    "a = [1, 2, 3]\n",
    "b = a  # here both a and b refer to the list [1, 2, 3]. b is just the alias of list a. \n",
    "print(b == a)\n",
    "print(b is a)\n",
    "print(id(a), id(b))"
   ]
  },
  {
   "cell_type": "code",
   "execution_count": 29,
   "metadata": {
    "collapsed": true
   },
   "outputs": [
    {
     "name": "stdout",
     "output_type": "stream",
     "text": [
      "True\nFalse\n2355826966088 2355826969480\n"
     ]
    }
   ],
   "source": [
    "a = [1, 2, 3]\n",
    "b = a[:]  # note: a copy of list a has been created and b is the name of that copy.\n",
    "print(b == a)\n",
    "print(b is a)\n",
    "print(id(a), id(b))"
   ]
  },
  {
   "cell_type": "markdown",
   "metadata": {},
   "source": [
    "#### Loops\n",
    "**for loop**\n",
    "\n",
    "The `for loop` is used to iterate elements of iterable objects, such as lists and dictionaries."
   ]
  },
  {
   "cell_type": "code",
   "execution_count": 30,
   "metadata": {
    "collapsed": true
   },
   "outputs": [
    {
     "name": "stdout",
     "output_type": "stream",
     "text": [
      "Adams\nJames\nDavid\n"
     ]
    }
   ],
   "source": [
    "for name in [\"Adams\", \"James\", 'David']:\n",
    "    print(name)"
   ]
  },
  {
   "cell_type": "markdown",
   "metadata": {},
   "source": [
    "It is useful to access the indices of the elements of a iterable object. We can use the `enumerate` function for this:"
   ]
  },
  {
   "cell_type": "code",
   "execution_count": 31,
   "metadata": {
    "collapsed": true
   },
   "outputs": [
    {
     "name": "stdout",
     "output_type": "stream",
     "text": [
      "0 Adams\n1 James\n2 David\n"
     ]
    }
   ],
   "source": [
    "for index, name in enumerate([\"Adams\", \"James\", 'David']):\n",
    "    print(index, name)"
   ]
  },
  {
   "cell_type": "code",
   "execution_count": 32,
   "metadata": {
    "collapsed": true
   },
   "outputs": [
    {
     "name": "stdout",
     "output_type": "stream",
     "text": [
      "triangle_x = [1, 5, 9]\ntriangle_y = [7, -5, 4]\n"
     ]
    }
   ],
   "source": [
    "d = { \"triangle_x\": [1, 5, 9], \"triangle_y\": [7, -5, 4] }\n",
    "\n",
    "for key, value in d.items():\n",
    "    print(\" \".join([key, \"=\", str(value)]))"
   ]
  },
  {
   "cell_type": "markdown",
   "metadata": {},
   "source": [
    "**while-break-continue**"
   ]
  },
  {
   "cell_type": "code",
   "execution_count": 33,
   "metadata": {
    "collapsed": true
   },
   "outputs": [
    {
     "name": "stdout",
     "output_type": "stream",
     "text": [
      "5"
     ]
    }
   ],
   "source": [
    "a = 5\n",
    "while a > 0:\n",
    "    print(a)\n",
    "    a -= 1"
   ]
  },
  {
   "cell_type": "code",
   "execution_count": 34,
   "metadata": {
    "collapsed": true
   },
   "outputs": [
    {
     "name": "stdout",
     "output_type": "stream",
     "text": [
      "5\n4\n3\n"
     ]
    }
   ],
   "source": [
    "a = 5\n",
    "while a > 0:\n",
    "    print(a)\n",
    "    a -= 1\n",
    "    if a < 3:\n",
    "        break"
   ]
  },
  {
   "cell_type": "code",
   "execution_count": 35,
   "metadata": {
    "collapsed": true
   },
   "outputs": [
    {
     "name": "stdout",
     "output_type": "stream",
     "text": [
      "4\n3\n"
     ]
    }
   ],
   "source": [
    "a = 5\n",
    "while a > 0:\n",
    "    a -= 1\n",
    "    if a < 3:\n",
    "        continue\n",
    "    print(a)"
   ]
  },
  {
   "cell_type": "markdown",
   "metadata": {},
   "source": [
    "------\n",
    "\n",
    "### Functions\n",
    "#### Built-in function\n",
    "A full list of Python built-in functions is available [here](https://docs.python.org/3/library/functions.html). Use the built-in functions as long as there is one that satisfies your requirements. It is very hard to beat the performance of the built-in functions as they are written in C. See an example below borrowed from [PerformanceTips of Python](https://wiki.python.org/moin/PythonSpeed/PerformanceTips)."
   ]
  },
  {
   "cell_type": "code",
   "execution_count": 36,
   "metadata": {
    "collapsed": true
   },
   "outputs": [
    {
     "name": "stdout",
     "output_type": "stream",
     "text": [
      "3.54 ms ± 742 µs per loop (mean ± std. dev. of 7 runs, 100 loops each)\n"
     ]
    }
   ],
   "source": [
    "# slow\n",
    "old_list = 10000 * ['a']\n",
    "new_list = []\n",
    "\n",
    "\n",
    "def func():\n",
    "    for word in old_list:\n",
    "        new_list.append(word.upper())\n",
    "\n",
    "\n",
    "%timeit func()"
   ]
  },
  {
   "cell_type": "code",
   "execution_count": 37,
   "metadata": {
    "collapsed": true
   },
   "outputs": [
    {
     "name": "stdout",
     "output_type": "stream",
     "text": [
      "316 ns ± 12.1 ns per loop (mean ± std. dev. of 7 runs, 1000000 loops each)\n"
     ]
    }
   ],
   "source": [
    "# faster\n",
    "old_list = 10000 * ['a']\n",
    "%timeit new_list = map(str.upper, old_list)"
   ]
  },
  {
   "cell_type": "markdown",
   "metadata": {},
   "source": [
    "#### User-defined function\n",
    "Python function is an object and can be passed to another function as a parameter (or argument). A Python function is defined using the keyword `def` followed by a function name, parameters in parentheses `()` and a colon `:`. The function body consists of indented statements. Python functions return values by adding a return statement that ends the execution of the function call, returns the result and goes back where the function is called. If a return statement does not exist, the function will return `None`. The general syntax of a Python function looks like:  "
   ]
  },
  {
   "cell_type": "code",
   "execution_count": 38,
   "metadata": {
    "collapsed": true
   },
   "outputs": [
    {
     "data": {
      "text/plain": [
       "18.1"
      ]
     },
     "execution_count": 38,
     "metadata": {},
     "output_type": "execute_result"
    }
   ],
   "source": [
    "def my_sum(a, b, c=1.):\n",
    "    \"\"\" Summation of a, b and c \"\"\"\n",
    "    return a + b + c\n",
    "\n",
    "\n",
    "my_sum(10.1, 2, 6.)"
   ]
  },
  {
   "cell_type": "markdown",
   "metadata": {},
   "source": [
    "##### docstring\n",
    "_docstring_ is the documentation of the function that describs the function purpose and behaviour. It is a string literal that exists normally as the first statement of a function. _docstring_ is optional, but highly recommended. Use `\"\"\" \"\"\"` to define a _docstring_ that can be accessed through the `__doc__` special attribute of the function or the `help` build-in Python function."
   ]
  },
  {
   "cell_type": "code",
   "execution_count": 39,
   "metadata": {
    "collapsed": true
   },
   "outputs": [
    {
     "name": "stdout",
     "output_type": "stream",
     "text": [
      " \n    Summation of a, b and c.\n    arg c is optional. \n    \nHelp on function my_sum in module __main__:\n\nmy_sum(a, b, c=1.0)\n    Summation of a, b and c.\n    arg c is optional.\n\n"
     ]
    }
   ],
   "source": [
    "def my_sum(a, b, c=1.):\n",
    "    \"\"\" \n",
    "    Summation of a, b and c.\n",
    "    arg c is optional. \n",
    "    \"\"\"\n",
    "    return a + b + c\n",
    "\n",
    "\n",
    "# to view docstring\n",
    "print(my_sum.__doc__)\n",
    "\n",
    "# or\n",
    "help(my_sum)"
   ]
  },
  {
   "cell_type": "markdown",
   "metadata": {},
   "source": [
    "##### Parameters \n",
    "Python function supports a number of different styles of parameters.\n",
    "\n",
    "* Normal parameters "
   ]
  },
  {
   "cell_type": "code",
   "execution_count": 40,
   "metadata": {
    "collapsed": true
   },
   "outputs": [],
   "source": [
    "def my_sum(a, b, c):\n",
    "    return a + b + c\n",
    "\n",
    "\n",
    "print(my_sum(10.1, 2, 6.))"
   ]
  },
  {
   "cell_type": "markdown",
   "metadata": {},
   "source": [
    "* Default and keyword parameters\n",
    "\n",
    "\tNote that default parameters must be placed after normal parameters."
   ]
  },
  {
   "cell_type": "code",
   "execution_count": 41,
   "metadata": {
    "collapsed": true
   },
   "outputs": [
    {
     "name": "stdout",
     "output_type": "stream",
     "text": [
      "18.1\n18.1\n11.1\n14.1\n16.1\n"
     ]
    }
   ],
   "source": [
    "def my_sum(a, b=0., c=1.):\n",
    "    return a + b + c\n",
    "\n",
    "\n",
    "print(my_sum(10.1, 2., 6.))  # don't use default values\n",
    "print(my_sum(10.1, b=2., c=6.))  # don't use default values and use keyword style for b and c\n",
    "print(my_sum(10.1))  # here we use the default values of b and c\n",
    "print(my_sum(10.1, 3.))  # here we just use the default values of c\n",
    "print(my_sum(10.1, c=6.))  # here we just use the default values of b. The keyword style is used for parameter c.\n"
   ]
  },
  {
   "cell_type": "markdown",
   "metadata": {},
   "source": [
    "* Arbitrary number of parameters:\n",
    "\n",
    "\tThere are many cases that the exact number of function parameters is not known in advance or it changes at different calls. Python function accepts arbitrary number of parameters by preceding the name of a parameter with a single `*` in the front of a argument. All parameters are packed to a tuple object (so-called packing) and then passed to the function. See the example below:  "
   ]
  },
  {
   "cell_type": "code",
   "execution_count": 42,
   "metadata": {
    "collapsed": true
   },
   "outputs": [
    {
     "name": "stdout",
     "output_type": "stream",
     "text": [
      "<class 'tuple'>\n21.0\n<class 'tuple'>\n55.0\n"
     ]
    }
   ],
   "source": [
    "def my_sum(*args):\n",
    "    print(type(args))\n",
    "    tot = 0.\n",
    "    for i in args:\n",
    "        tot += i\n",
    "    return tot\n",
    "\n",
    "\n",
    "print(my_sum(1, 2, 3, 4, 5, 6))\n",
    "print(my_sum(1, 2, 3, 4, 5, 6, 7, 8, 9, 10))"
   ]
  },
  {
   "cell_type": "markdown",
   "metadata": {},
   "source": [
    "As shown above, all numbers are passed to the function as seperate arguments. It is trivial especially when the number of arguments is large. How about if all numbers are packed into a list and pass such list to the function? A `*` should be placed in the front of the list. This is so-called *unpacking*."
   ]
  },
  {
   "cell_type": "code",
   "execution_count": 43,
   "metadata": {
    "collapsed": true
   },
   "outputs": [
    {
     "name": "stdout",
     "output_type": "stream",
     "text": [
      "<class 'tuple'>\n"
     ]
    },
    {
     "data": {
      "text/plain": [
       "55.0"
      ]
     },
     "execution_count": 43,
     "metadata": {},
     "output_type": "execute_result"
    }
   ],
   "source": [
    "def my_sum(*args):\n",
    "    print(type(args))\n",
    "    tot = 0.\n",
    "    for i in args:\n",
    "        tot += i\n",
    "    return tot\n",
    "\n",
    "\n",
    "my_list = [1, 2, 3, 4, 5, 6, 7, 8, 9, 10]\n",
    "# my_sum(my_list)  # not OK\n",
    "my_sum(*my_list)  # OK"
   ]
  },
  {
   "cell_type": "markdown",
   "metadata": {},
   "source": [
    "* Arbitrary number of keyword parameters\n",
    "\n",
    "\tTo pass arbitrary number of keyword parameters to a Python function, two asterisks `**` should be placed in the front of a parameter name. Named arguments in the format of key/value pairs are supplied to a function as a dictionary."
   ]
  },
  {
   "cell_type": "code",
   "execution_count": 44,
   "metadata": {
    "collapsed": true
   },
   "outputs": [
    {
     "name": "stdout",
     "output_type": "stream",
     "text": [
      "{'name': 'Python', 'version': 3, 'release': 3.6}\nname :  Python\nversion :  3\nrelease :  3.6\n"
     ]
    }
   ],
   "source": [
    "def func(**kwargs):\n",
    "    print(kwargs)\n",
    "    for key, value in kwargs.items():\n",
    "        print(key, ': ', value)\n",
    "\n",
    "\n",
    "func(name='Python', version=3, release=3.6)"
   ]
  },
  {
   "cell_type": "markdown",
   "metadata": {},
   "source": [
    "The appoaches above can be mixed, see the example below. "
   ]
  },
  {
   "cell_type": "code",
   "execution_count": 45,
   "metadata": {
    "collapsed": true
   },
   "outputs": [
    {
     "name": "stdout",
     "output_type": "stream",
     "text": [
      "arg1  =  10\narg2  =  20\narg3  =  30\n(40, 50, 60, [1.0, 2.0, 3.0], 4.0, 5.0, 6.0)\n{'name': 'Python', 'version': 3, 'release': 3.6}\nname :  Python\nversion :  3\nrelease :  3.6\n"
     ]
    }
   ],
   "source": [
    "def func(arg1, arg2, arg3, *args, **kwargs):\n",
    "    print('arg1', ' = ', arg1)\n",
    "    print('arg2', ' = ', arg2)\n",
    "    print('arg3', ' = ', arg3)\n",
    "    print(args)\n",
    "    print(kwargs)\n",
    "    for key, value in kwargs.items():\n",
    "        print(key, ': ', value)\n",
    "\n",
    "\n",
    "func(10, 20, 30, 40, 50, 60, [1., 2., 3.], *[4., 5., 6.], name='Python', version=3, release=3.6)"
   ]
  },
  {
   "cell_type": "markdown",
   "metadata": {},
   "source": [
    "#### Function in function\n",
    "In scientific programming it occurs frequently to have functions as arguments in other functions. For example, for a mathematical function $f(x)$ the first-order derivative of $f(x)$ is: $$f'(x) \\approx \\lim_{h \\to 0}\\frac{f(x+h)-f(x)}{h}$$\n",
    "\n",
    "Here we have two functions $f(x)$ and $f'(x)$, and $f(x)$ is one of the arguments of $f'(x)$. Take a parabolic curve as an example: $$f(x) = -x^2 + 4x - 3$$ \n",
    "\n",
    "To turn these two functions into Python code, first we need to implement a Python function to represent $f(x)$:"
   ]
  },
  {
   "cell_type": "code",
   "execution_count": 46,
   "metadata": {},
   "outputs": [],
   "source": [
    "def f(x):\n",
    "    return -x**2 + 4*x - 3"
   ]
  },
  {
   "cell_type": "markdown",
   "metadata": {},
   "source": [
    "Then implement a Python function ($diff1$ for example) to calculate its first-order derivative of $f(x)$. Before turning the mathematical function into programming code, bear in mind, a good practice of programming is that the code should be as general as possible and can be used in many different scientific areas. For the present case, it would be ideal that the $diff1$ function can be used to calculate derivative for any $f(x)$."
   ]
  },
  {
   "cell_type": "code",
   "execution_count": 47,
   "metadata": {},
   "outputs": [],
   "source": [
    "def diff1(f, x, h=1E-8):\n",
    "    dif = (f(x + h) - f(x)) / h\n",
    "    return dif"
   ]
  },
  {
   "cell_type": "markdown",
   "metadata": {},
   "source": [
    "The implementation above not only accept any type of $f(x)$, but also keep the code very close to the form of the mathematical formula. Let's calculate the first-order derivative of $f(x)$ at $x=1$. The analytical solution is $f'(1)=2$, and the solution from the Python functions above is $f'(1)\\approx$:"
   ]
  },
  {
   "cell_type": "code",
   "execution_count": 48,
   "metadata": {
    "collapsed": true
   },
   "outputs": [
    {
     "data": {
      "text/plain": [
       "1.999999987845058"
      ]
     },
     "execution_count": 48,
     "metadata": {},
     "output_type": "execute_result"
    }
   ],
   "source": [
    "diff1(f, 1)"
   ]
  },
  {
   "cell_type": "markdown",
   "metadata": {},
   "source": [
    "Great! Very small discrepancy. Now you might want to reduce the value of $h$ to get a more accurate result. BUT, be careful with the value of $h$. Mathematically the result becomes an increasingly better approximation as $h$ gets smaller and smaller. This is NOT true on computer due to float number round-off errors. You can try smaller $h$ and see how the result changes."
   ]
  },
  {
   "cell_type": "markdown",
   "metadata": {},
   "source": [
    "------\n",
    "\n",
    "### Classes\n",
    "\n",
    "In the previous sections we have already seen that dictionaries and lists can be used to group relevant data together, and functions can be used to repeatedly manipulate such data by grouping a number of statements. Classes are the centre feature of object-oriented programming (OOP), and used to represent objects by grouping the data related to the objects and functions that act upon the data into a single entity.\n",
    "\n",
    "In Python classes are a user-defined data type, similar to the build-in types such as integer, list and function. Once a class is defined, it does not define/manipulate any data. Instead, it formulates a template that describes what the class represents, what data the object contains and what operations are available for manipulating the data.\n",
    "\n",
    "Objects are created based on the defined classes. Once an object is created, we call it an instance of the class. In Python a class is defined like this:"
   ]
  },
  {
   "cell_type": "code",
   "execution_count": 49,
   "metadata": {
    "collapsed": true
   },
   "outputs": [
    {
     "name": "stdout",
     "output_type": "stream",
     "text": [
      "<class '__main__.Rectangular'>\n"
     ]
    }
   ],
   "source": [
    "# Define a class\n",
    "class Rectangular:\n",
    "    \"\"\" A simple class to represent rectangular \"\"\"\n",
    "    width = 10.  # Attribute 1 \n",
    "    height = 5.  # Attribute 2\n",
    "    color = 'blue'  # Attribute 3\n",
    "    \n",
    "    # Method: area\n",
    "    def area(self):\n",
    "        return self.width * self.height\n",
    "    \n",
    "    # Method: get_color\n",
    "    def get_color(self):\n",
    "        return self.color\n",
    "\n",
    "    \n",
    "print(type(Rectangular()))"
   ]
  },
  {
   "cell_type": "markdown",
   "metadata": {},
   "source": [
    "We have defined a class named Rectangular to represent rectangular objects. It contains three variables (`width`, `height` and `color`) that are used to store the data, and two functions (`area` and `get_color`) that are used to manipulate the stored data. In a class of Python we call variables as attributes and functions as methods. You may have noticed that the first argument of the method is always `self`, that is necessary for normal Python class methods and refers the object itself. We don’t have to pass this parameter in when we call a class method. Because the object itself is passed in automatically whenever a class method is called, which allows us to access variables and methods from inside of objects, `self.color` in function `get_color()` for example.\n",
    "\n",
    "So far we have just defined a class and never used it. To create an object based on the defined class:  "
   ]
  },
  {
   "cell_type": "code",
   "execution_count": 50,
   "metadata": {
    "collapsed": true
   },
   "outputs": [
    {
     "name": "stdout",
     "output_type": "stream",
     "text": [
      "The width is:  10.0\nThe area is:  50.0\nThe new area is:  200.0\n"
     ]
    }
   ],
   "source": [
    "# Create an rectangular object\n",
    "rect = Rectangular()  # rect is now an instance of class Rectangular\n",
    "\n",
    "# To access its attributes, use the dot notation:\n",
    "print('The width is: ', rect.width)\n",
    "\n",
    "# To access its method:\n",
    "area_of_rect = rect.area()\n",
    "print('The area is: ', area_of_rect)\n",
    "\n",
    "# To modify its attribute\n",
    "rect.height = 20.\n",
    "\n",
    "# Check its area\n",
    "area_of_rect = rect.area()\n",
    "print('The new area is: ', area_of_rect)"
   ]
  },
  {
   "cell_type": "markdown",
   "metadata": {},
   "source": [
    "#### Special methods\n",
    "Apart from ordinary methods, Python classes have several special methods that have double underscore before and after the method name (e.g. `__init__` and `__call__`). `__init__()` is a special method (also known as class constructor or initialization method) that is called whenever a new instance of this class is created. `__init__()` is always the first method of a class and used to initialise class’s attributes, see the example below:"
   ]
  },
  {
   "cell_type": "code",
   "execution_count": 51,
   "metadata": {},
   "outputs": [],
   "source": [
    "# Define a class\n",
    "class Rectangular:\n",
    "    \"\"\" A simple class to represent rectangular \"\"\"\n",
    "    \n",
    "    def __init__(self, width, height, color='blue'):\n",
    "        print('__init__() is called.')\n",
    "        self.width, self.height, self.color = width, height, color  # Attribute 1, 2 and 3\n",
    "    \n",
    "    # Method: area\n",
    "    def area(self):\n",
    "        return self.width * self.height\n",
    "    \n",
    "    # Method: get_color\n",
    "    def get_color(self):\n",
    "        return self.color"
   ]
  },
  {
   "cell_type": "markdown",
   "metadata": {},
   "source": [
    "`__init__` method creates attributes on the object and sets them to the values that are passed in as parameters during the creation of an instance, for example:"
   ]
  },
  {
   "cell_type": "code",
   "execution_count": 52,
   "metadata": {
    "collapsed": true
   },
   "outputs": [
    {
     "name": "stdout",
     "output_type": "stream",
     "text": [
      "__init__() is called.\nThe color of rect1 is:  red\n__init__() is called.\nThe color of rect2 is:  white\n"
     ]
    }
   ],
   "source": [
    "# Create an rectangular object that has a width of 100, a height of 200 and red color\n",
    "rect1 = Rectangular(100., 200., 'red')  # rect is now an instance of class Rectangular\n",
    "\n",
    "# To access its attributes, use the dot operator:\n",
    "print('The color of rect1 is: ', rect1.color)\n",
    "\n",
    "# Create an rectangular object that has a width of 1000, a height of 2000 and white color\n",
    "rect2 = Rectangular(100., 2000., 'white')  # rect is now an instance of class Rectangular\n",
    "\n",
    "# To access its attributes, use the dot operator:\n",
    "print('The color of rect2 is: ', rect2.color)"
   ]
  },
  {
   "cell_type": "markdown",
   "metadata": {},
   "source": [
    "`__call__()` method in a Python class implements a function call operator that allows the class's instance to be called as a function. See the example below:"
   ]
  },
  {
   "cell_type": "code",
   "execution_count": 53,
   "metadata": {
    "collapsed": true
   },
   "outputs": [],
   "source": [
    "class A:\n",
    "    def __init__(self):\n",
    "        pass\n",
    "        \n",
    "class B:\n",
    "    def __init__(self):\n",
    "        pass\n",
    "        \n",
    "    def __call__(self):\n",
    "        print('__call__ method invoked')\n",
    "\n",
    "# create instances\n",
    "a = A()\n",
    "b = B()"
   ]
  },
  {
   "cell_type": "markdown",
   "metadata": {},
   "source": [
    "Now let's call instance `a`:"
   ]
  },
  {
   "cell_type": "code",
   "execution_count": 54,
   "metadata": {
    "collapsed": true
   },
   "outputs": [
    {
     "ename": "TypeError",
     "evalue": "'A' object is not callable",
     "traceback": [
      "\u001b[1;31m---------------------------------------------------------------------------\u001b[0m",
      "\u001b[1;31mTypeError\u001b[0m                                 Traceback (most recent call last)",
      "\u001b[1;32m<ipython-input-54-8d7b4527e81d>\u001b[0m in \u001b[0;36m<module>\u001b[1;34m()\u001b[0m\n\u001b[1;32m----> 1\u001b[1;33m \u001b[0ma\u001b[0m\u001b[1;33m(\u001b[0m\u001b[1;33m)\u001b[0m\u001b[1;33m\u001b[0m\u001b[0m\n\u001b[0m",
      "\u001b[1;31mTypeError\u001b[0m: 'A' object is not callable"
     ],
     "output_type": "error"
    }
   ],
   "source": [
    "a()"
   ]
  },
  {
   "cell_type": "markdown",
   "metadata": {},
   "source": [
    "Call instance `b`:"
   ]
  },
  {
   "cell_type": "code",
   "execution_count": 55,
   "metadata": {
    "collapsed": true
   },
   "outputs": [
    {
     "name": "stdout",
     "output_type": "stream",
     "text": [
      "__call__ method invoked"
     ]
    }
   ],
   "source": [
    "b()"
   ]
  },
  {
   "cell_type": "markdown",
   "metadata": {},
   "source": [
    "#### Build-in methods\n",
    "Except user-defined methods, when a class is defined a number of build-in attributes are added to the class automatically.  "
   ]
  },
  {
   "cell_type": "code",
   "execution_count": 56,
   "metadata": {
    "collapsed": true
   },
   "outputs": [],
   "source": [
    "print(\"Rectangular.__dict__: \", Rectangular.__dict__)  # __dict__: store all attributes and methods of the class \n",
    "print(\"Rectangular.__doc__: \", Rectangular.__doc__)  # __doc__ is the class documentation\n",
    "print(\"Rectangular.__name__: \", Rectangular.__name__)  # __name__: the name of the class \n",
    "print(\"Rectangular.__module__: \", Rectangular.__module__)  # __module__: the module name in which the class is defined\n",
    "print(\"Rectangular.__bases__: \", Rectangular.__bases__)  # __bases__: a tuple containing base classes of a class object"
   ]
  },
  {
   "cell_type": "markdown",
   "metadata": {},
   "source": [
    "#### Application\n",
    "Classes can be used in many ways in scientific computing. One of the most frequent usages is to represent mathematical functions that have a set of parameters and one or more independent variables, e.g. $f(x; a, b ,c) = ax^2 + bx + c$, where $x$ is the independent variable while $a$, $b$ and $c$ are parameters. How would you implement such function by using a Python class? Conceptually, $f$ is just a function of $x$, and $a$, $b$ and $c$ are just parameters that can be chosen arbitrarily. So what we need here is a Python class that can be used to represent any parabolas and to calculate the value of $f(x)$ at a given $x$. A way to achieve this is put $a$, $b$ and $c$ in the constructor of a Python class and define a method to calculate the value of $f(x)$: "
   ]
  },
  {
   "cell_type": "code",
   "execution_count": 57,
   "metadata": {},
   "outputs": [],
   "source": [
    "class Parabola:\n",
    "    def __init__(self, a, b, c):\n",
    "        self.a, self.b, self.c = a, b, c\n",
    "        \n",
    "    def value(self, x):\n",
    "        a, b, c = self.a, self.b, self.c\n",
    "        return a*(x**2) + b*x + c"
   ]
  },
  {
   "cell_type": "markdown",
   "metadata": {},
   "source": [
    "The class defined above can be used to create an instance to represent a parabola by providing $a$, $b$ and $c$. And the value of $f(x)$ can be obtained by accessing its `value` method. For example:"
   ]
  },
  {
   "cell_type": "code",
   "execution_count": 58,
   "metadata": {
    "collapsed": true
   },
   "outputs": [
    {
     "name": "stdout",
     "output_type": "stream",
     "text": [
      "0"
     ]
    },
    {
     "name": "stdout",
     "output_type": "stream",
     "text": [
      "\n1.999999987845058\n"
     ]
    }
   ],
   "source": [
    "f = Parabola(-1, 4, -3)\n",
    "print(f.value(1))  # y value when x = 1\n",
    "print(diff1(f.value, 1))  # first-order derivative of f(x) at x = 1"
   ]
  },
  {
   "cell_type": "markdown",
   "metadata": {},
   "source": [
    "As seen above, the value of function $f(x)$ at `x = 1` is computed using `f.value(1)`. Would it be better if the Python functions have the same syntax as ordinary mathematical functions to compute the value of $f(x)$ or the derivative of $f(x)$? For example, implement two Python functions $f(x)$ and $df(x)$ and compute their values at $x = 1$ with the following mathematical syntax: $f(1)$ and $df(1)$. It is indeed possible and can be achieved by using the special method `__call__`. Let's re-implement the `Parabola` class and the derivative function: "
   ]
  },
  {
   "cell_type": "code",
   "execution_count": 59,
   "metadata": {},
   "outputs": [],
   "source": [
    "class Parabola:\n",
    "    def __init__(self, a, b, c):\n",
    "        self.a, self.b, self.c = a, b, c\n",
    "        \n",
    "    def __call__(self, x):\n",
    "        a, b, c = self.a, self.b, self.c\n",
    "        return a*(x**2) + b*x + c\n",
    "\n",
    "\n",
    "class Derivative:\n",
    "    def __init__(self, f, h=1E-8):\n",
    "        self.f, self.h = f, h\n",
    "        \n",
    "    def __call__(self, x):\n",
    "        f, h = self.f, self.h\n",
    "        return (f(x+h) - f(x))/h\n",
    "\n",
    "    \n",
    "f = Parabola(-1, 4, -3)  # create a parabola instance to represent f(x)\n",
    "df = Derivative(f)  # create a derivative instance to represent f'(x) "
   ]
  },
  {
   "cell_type": "code",
   "execution_count": 60,
   "metadata": {
    "collapsed": true
   },
   "outputs": [
    {
     "data": {
      "text/plain": [
       "0"
      ]
     },
     "execution_count": 60,
     "metadata": {},
     "output_type": "execute_result"
    }
   ],
   "source": [
    "f(1)"
   ]
  },
  {
   "cell_type": "code",
   "execution_count": 61,
   "metadata": {
    "collapsed": true
   },
   "outputs": [
    {
     "data": {
      "text/plain": [
       "1.999999987845058"
      ]
     },
     "execution_count": 61,
     "metadata": {},
     "output_type": "execute_result"
    }
   ],
   "source": [
    "df(1)"
   ]
  },
  {
   "cell_type": "markdown",
   "metadata": {},
   "source": [
    "Another application of Python class in scientific programming is implement numerical schemes for solving differential equations. For the sake of simplicity, we keep the mathematical problem as simple as possible so that we can put more focus on the concepts of Python programming side. We choose a first-order ordinary differential equation (ODE) and its abstract form can be expressed as: $$u'(t) = f(u(t), t),\\quad t\\in(0, T],\\quad u(0)=U_0$$\n",
    "\n",
    "where $t$ is the independent variable within the domain $(0, T]$, and $u(0)=U_0$ is the initial condition. Our task is to find the solution $u(t)$ for $t\\in(0, T]$ by giving $f(u,t), T$ and $U_0$. Why we use the abstract form here? Because $f(u(t), t)$ is general and can be used to represent different systems. We shall bring this concept into our Python programming as well. An important principle in programming is that the code should be as general and widely usable as possible (**implement once, apply anywhere**). For this case, we shall create a piece of code that can be used to solve any equation for which $f(u, t)$ is given. If you are implementing different code for different $f(u, t)$, it is very likely you are repeating yourself. \n",
    "\n",
    "In practice, physical systems are much more complicated, and it is difficult to solve their governing equations analytically. Instead numerical solutions are frequently chosen for solving the systems at finite discrete points which can be computed in a finite number of steps on a computer. For simplicity we choose the simplest finite difference method (the Forward Euler Scheme) to solve the ODE numerically.\n",
    "\n",
    "Solving the ODE with a finite different method (the Forward Euler Scheme for this case) consists of the following four steps:\n",
    "\n",
    "* Discretising the domain: defining a collection of $t$ points ($0=t_0 < t_1 < t_2 < \\cdots < t_n =T $) where the values of $u(t)$ are calculated\n",
    "\n",
    "* Fulfilling the equation at the finite defined $t$ points: the original ODE can be reduced to the following $N$ equations: $$u'(t_k) = f(u(t_k), t_k), \\quad k=1, 2, \\cdots, n$$\n",
    "\n",
    "* Approximating the derivatives by using the finite different scheme (the Forward Euler Scheme for this case): $$ u'(t_k) \\approx \\frac{u_{k+1}-u_k}{t_{k+1}-t_k}$$\n",
    "Substituting the scheme to the $N$ equations yields: $$f(u_k, t_k) = \\frac{u_{k+1}-u_k}{t_{k+1}-t_k}, \\quad k=1, 2, \\cdots, n$$\n",
    "Suppose the interval between two adjacent $t$ points is $\\Delta t = t_{k+1}-t_k$. We can then reform the formula above to: $$u_{k+1} = u_k+\\Delta t f(u_k, t_k)$$\n",
    "As can be seen, $u_{k+1}$ can be calculated if $u_k$ is known.\n",
    "\n",
    "* Formulating a recursive algorithm: now the formula above has a recursive nature. We can start with the initial condition and compute $u_1$ as: $$u_1 = u_0 + \\Delta t f(u_0, t_0)$$\n",
    "Then we can continue with: $$u_2 = u_1 + \\Delta t f(u_1, t_1)$$ $$u_3 = u_2 + \\Delta t f(u_2, t_2)$$ $$\\cdots$$ $$\\cdots$$ $$u_k = u_{k-1} + \\Delta t f(u_{k-1}, t_{k-1})$$\n",
    "\n",
    "So the values of $u(t)$ at defined finite points can be computed sequentially from $u_1$ by implementing a loop in Python. See the code below:  "
   ]
  },
  {
   "cell_type": "code",
   "execution_count": 62,
   "metadata": {},
   "outputs": [],
   "source": [
    "import numpy as np\n",
    "\n",
    "class ForwardEuler:\n",
    "    \"\"\"\n",
    "        Solve 1st-order ODEs \n",
    "        u'(t) = f(u, t) \n",
    "        by using the Forward Euler Scheme.\n",
    "        \n",
    "        paras:\n",
    "        f: callable obj to represent f(u, t)\n",
    "        U0: initial condition\n",
    "        T0: start point of t\n",
    "        T: end point of t\n",
    "        n: number of discrete points including T0 and T\n",
    "    \"\"\"\n",
    "    \n",
    "    def __init__(self, f, U0, T0, T, n):\n",
    "        self.f, self.U0, self.T0, self.T, self.n = f, U0, T0, T, n\n",
    "        if not callable(self.f):\n",
    "            raise TypeError('f is %s, not a callable function' % type(self.f))\n",
    "        \n",
    "        if n < 2 or type(n) is not int:\n",
    "            raise ValueError('n is now %s. n Must be an integer greater than 1' % n)\n",
    "        \n",
    "        self.dt = (T - T0) / float(n - 1)\n",
    "        self.u = np.zeros(self.n)\n",
    "        self.t = np.zeros(self.n)\n",
    "    \n",
    "    def solve(self):\n",
    "        self.u[0] = self.U0\n",
    "        self.t[0] = self.T0\n",
    "        \n",
    "        for k in range(self.n-1):\n",
    "            self.__k = k\n",
    "            self.t[k+1] = self.t[k] + self.dt\n",
    "            self.u[k+1] = self.__step()\n",
    "        return self.u, self.t\n",
    "            \n",
    "    def __step(self):\n",
    "        u, dt, f, k, t = self.u, self.dt, self.f, self.__k, self.t\n",
    "        unew = u[k] + dt * f(u[k], t[k])\n",
    "        return unew"
   ]
  },
  {
   "cell_type": "markdown",
   "metadata": {
    "collapsed": true
   },
   "source": [
    "We have implemented a Python class that can be used to solve any functions that has a form of $f(u, t) $. In the class the constructor can store the input data of the problem and initialize the data structures. The `solve` method can perform the domain stepping procedures through the mesh points, while the `__step` method can compute the $u$ value at next point by using the Forward Euler Scheme. The double underscore symbol in the method name means this method is private and cannot be accessed from outside the class.\n",
    "\n",
    "Let’s apply this class to a system to see how it works and verify our implementation is correct. Again, for simplicity we choose a simple decaying system that is governed by a first-order ODE: $$u'(t) = -10u(t),\\quad t\\in(0, 2],\\quad u(0)=1$$\n",
    "\n",
    "The analytical solution of the system is $u(t) = e^{-10t}$ that can be used to verify the numerical solution later."
   ]
  },
  {
   "cell_type": "code",
   "execution_count": 63,
   "metadata": {},
   "outputs": [],
   "source": [
    "def f(u, t):\n",
    "    return -10. * u\n",
    "\n",
    "def f_ext(t, U0):\n",
    "    return U0 * np.exp(-10. * t)\n",
    "\n",
    "# Numerical solution\n",
    "ode = ForwardEuler(f, U0=1, T0=0, T=1, n=50)\n",
    "u, t = ode.solve()\n",
    "\n",
    "# Exact solution\n",
    "t_ext = np.linspace(0, 1, 1000)\n",
    "u_ext = f_ext(t_ext, 1)"
   ]
  },
  {
   "cell_type": "markdown",
   "metadata": {},
   "source": [
    "Now we have obtained the numerical solution at 50 mesh points that are stored in variable `u`. Let’s plot the numerical solution and the exact solution in one figure:"
   ]
  },
  {
   "cell_type": "code",
   "execution_count": 64,
   "metadata": {
    "collapsed": true
   },
   "outputs": [
    {
     "data": {
      "text/plain": [
       "<matplotlib.legend.Legend at 0x2249f953f98>"
      ]
     },
     "execution_count": 64,
     "metadata": {},
     "output_type": "execute_result"
    },
    {
     "data": {
      "image/png": "[encoded data removed]",
      "text/plain": [
       "<Figure size 432x288 with 1 Axes>"
      ]
     },
     "metadata": {},
     "output_type": "display_data"
    }
   ],
   "source": [
    "%matplotlib inline\n",
    "\n",
    "import matplotlib.pyplot as plt\n",
    "\n",
    "fig, ax = plt.subplots()\n",
    "ax.plot(t_ext, u_ext, 'k-', label='Exact')\n",
    "ax.plot(t, u, linestyle='None', marker='*', markersize=3, label='Forward Euler')\n",
    "ax.set_xlabel('t', fontsize=11)\n",
    "ax.set_ylabel('u', fontsize=11)\n",
    "ax.set(xlim=(0, 1))\n",
    "ax.legend()\n"
   ]
  },
  {
   "cell_type": "markdown",
   "metadata": {},
   "source": [
    "Now that we have evidence for a correct implementation and the numerical solution is very close to the exact solution although being subject to numerical errors that are dependent on many factors such as numerical scheme, density of discretisation and hardware of computer. So numerical error analysis is always a necessary step to understand how reliable your code is. For this case, you can change the number of discrete points and see how the result changes."
   ]
  },
  {
   "cell_type": "markdown",
   "metadata": {},
   "source": [
    "------\n",
    "\n",
    "### Modules and packages\n",
    "A good practice in computer programming is to reuse code and avoid repetition (Don’t Repeat Yourself!).\n",
    "\n",
    "Modular programming is a process of subdividing the program into separate sub-programs. Modules in a program are separate components, each of which has a specific functionality and can be used by different applications or at different places of a program. Splitting a program into several modules that have well-defined purpose and scope increases significantly code readability, reusability and maintainability.\n",
    "\n",
    "Python supports modular programming at different levels from a lower level such as functions and classes to a higher level such as modules and packages. A Python module is used to group relevant variables, functions and classes into a single `.py` file. Simply, Python module is a file with the `.py` extension in which you define several variables, function and classes that can be used together to achieve a specific functionality.\n",
    "\n",
    "Each module has its own namespace, so you can define two functions/classes that have the same name as long as they are in different modules. To access the attributes of a module from another Python file, use the `import` statement. See the example below:\n",
    "\n"
   ]
  },
  {
   "cell_type": "code",
   "execution_count": 65,
   "metadata": {
    "collapsed": true
   },
   "outputs": [
    {
     "name": "stdout",
     "output_type": "stream",
     "text": [
      "Overwriting misc\\mymodule.py\n"
     ]
    }
   ],
   "source": [
    "%%file misc\\mymodule.py\n",
    "\n",
    "\"\"\" Simple module file \"\"\"\n",
    "\n",
    "para = 1.0\n",
    "\n",
    "\n",
    "def myfunc():\n",
    "    print('myfunc in mymodule.')\n",
    "    \n",
    "\n",
    "class MyClass:\n",
    "    def __init__(self):\n",
    "        print('MyClass in mymodule.')"
   ]
  },
  {
   "cell_type": "code",
   "execution_count": 66,
   "metadata": {
    "collapsed": true
   },
   "outputs": [
    {
     "name": "stdout",
     "output_type": "stream",
     "text": [
      "1.0"
     ]
    },
    {
     "name": "stdout",
     "output_type": "stream",
     "text": [
      "\nmyfunc in mymodule.\nMyClass in mymodule.\n"
     ]
    }
   ],
   "source": [
    "from misc import mymodule\n",
    "\n",
    "print(mymodule.para)\n",
    "mymodule.myfunc()\n",
    "myclass = mymodule.MyClass()"
   ]
  },
  {
   "cell_type": "markdown",
   "metadata": {},
   "source": [
    "A Python package is a directory that contains modules. So it is just a collection of modules as module is a collection of variables, functions and classes. If you create a directory and put module files inside, Python will not know such directory is a Python package. To make Python understand a directory is a package, a `__init__.py` file must be placed inside the package directory. This file tells Python that it is a package. To access its module, use the `import` statement as well. See the example below:"
   ]
  },
  {
   "cell_type": "code",
   "execution_count": 67,
   "metadata": {
    "collapsed": true
   },
   "outputs": [
    {
     "name": "stdout",
     "output_type": "stream",
     "text": [
      "1.0"
     ]
    },
    {
     "name": "stdout",
     "output_type": "stream",
     "text": [
      "\nmyfunc in mymodule1.\n\n\n2.0\nmyfunc in mymodule2.\n"
     ]
    }
   ],
   "source": [
    "from mypkg import mymodule1\n",
    "from mypkg import mymodule2\n",
    "\n",
    "print(mymodule1.para)\n",
    "mymodule1.myfunc()\n",
    "\n",
    "print('\\n')  # new line\n",
    "\n",
    "print(mymodule2.para)\n",
    "mymodule2.myfunc()\n"
   ]
  },
  {
   "cell_type": "markdown",
   "metadata": {},
   "source": [
    "------\n",
    "\n",
    "### More reading\n",
    "* [Scipy lectures - introduction to Python language](https://www.scipy-lectures.org/intro/language/python_language.html)\n",
    "* [A Primer on Scientific Programming with Python](http://www.dsf.unica.it/~fiore/psc.pdf)"
   ]
  }
 ],
 "metadata": {
  "kernelspec": {
   "display_name": "Python 3",
   "language": "python",
   "name": "python3"
  },
  "language_info": {
   "codemirror_mode": {
    "name": "ipython",
    "version": 3
   },
   "file_extension": ".py",
   "mimetype": "text/x-python",
   "name": "python",
   "nbconvert_exporter": "python",
   "pygments_lexer": "ipython3",
   "version": "3.6.3"
  }
 },
 "nbformat": 4,
 "nbformat_minor": 1
}
