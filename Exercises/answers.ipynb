{
 "cells": [
  {
   "cell_type": "markdown",
   "metadata": {
    "collapsed": true
   },
   "source": [
    "### Exercises: answers\n",
    "\n",
    "------\n"
   ]
  },
  {
   "cell_type": "code",
   "execution_count": 1,
   "metadata": {
    "collapsed": true
   },
   "outputs": [],
   "source": [
    "from __future__ import print_function  # to make sure that the print statement works with both Python 2 and 3.\n",
    "import numpy as np"
   ]
  },
  {
   "cell_type": "markdown",
   "metadata": {
    "collapsed": true
   },
   "source": [
    "### L03-Introduction to Python language\n",
    "##### Q1:\n",
    "Create a Virtual Environment of Python 2 or 3 and install the following packages: *numpy*, *scipy* and *matplotlib* within the created Virtual Environment.\n",
    "\n",
    "* Python 2\n",
    "\n",
    "```\t\n",
    "virtualenv myproj_vm\n",
    "```\n",
    "\n",
    "* Python 3\n",
    "\n",
    "```\n",
    "python3 -m venv myproj_vm\n",
    "```\n",
    "\n",
    "Within the folder *myproj_vm*, a copy of Python that has no external packages installed has been created. \n",
    "\n",
    "Install packages within VM:\n",
    "* On linux\n",
    "\n",
    "```\n",
    "/path-to-VM/bin/pip install numpy\n",
    "/path-to-VM/bin/pip install scipy\n",
    "/path-to-VM/bin/pip install matplotlib\n",
    "```\n",
    "\n",
    "* On Windows\n",
    "\n",
    "```\n",
    "\\path-to-VM\\Scripts\\pip.exe install numpy\n",
    "\\path-to-VM\\Scripts\\pip.exe install scipy\n",
    "\\path-to-VM\\Scripts\\pip.exe install matplotlib\n",
    "```"
   ]
  },
  {
   "cell_type": "markdown",
   "metadata": {
    "collapsed": true
   },
   "source": [
    "##### Q2:\n",
    "Use list comprehension to create a Python list containing $[0^2 + 1, 1^2 + 1, 2^2 + 1, ......, 30^2 + 1]$ and calculate the sum of all elements.\n"
   ]
  },
  {
   "cell_type": "code",
   "execution_count": 2,
   "metadata": {},
   "outputs": [
    {
     "name": "stdout",
     "output_type": "stream",
     "text": [
      "[1, 2, 5, 10, 17, 26, 37, 50, 65, 82, 101, 122, 145, 170, 197, 226, 257, 290, 325, 362, 401, 442, 485, 530, 577, 626, 677, 730, 785, 842, 901]\n9486\n"
     ]
    }
   ],
   "source": [
    "a = [i**2 + 1 for i in range(31)]\n",
    "print(a)\n",
    "print(sum(a))"
   ]
  },
  {
   "cell_type": "markdown",
   "metadata": {},
   "source": [
    "##### Q3:\n",
    "\n",
    "The value of $\\pi$ can be computed by: $$\\pi = \\sqrt{12} \\sum_{k=0}^{\\infty} \\frac{(-\\frac{1}{3})^k}{2k+1} $$\n",
    "Write a Python function `cal_pi` to calculate the value of $\\pi$ using the formula above, and apply the function to compute an approximation of $\\pi$ with $k=200$.\n",
    "\n",
    "See *cal_pi.py*."
   ]
  },
  {
   "cell_type": "markdown",
   "metadata": {},
   "source": [
    "##### Q4:\n",
    "Write a Python function `diff2` to compute the second-order derivative of function $f(x)$: $$f''(x) \\approx \\lim_{h \\to 0}\\frac{f(x+h) - 2f(x) + f(x-h)}{h^2}$$\n",
    "Apply `diff2` to differentiate $f(x) = x^{4}$ at $x = 1$. The result can be computed easily by hand and it is 12. So you can use this number to verify your Python code.\n",
    "\n",
    "See *diff2.py*."
   ]
  },
  {
   "cell_type": "markdown",
   "metadata": {},
   "source": [
    "##### Q5:\n",
    "Write a Python class *Line* to represent a straight line in the Cartesian plane. The class consists of a constructor that takes two points (two lists or tuples, e.g. [x1, y1] and [x2, y2]) as the input, and a method that computes the `y` value by giving a `x`. Apply the class to points (0, 0) and (10, 10) and calculate the `y` value at $x = 5$.\n",
    "\n",
    "See *Line.py*."
   ]
  },
  {
   "cell_type": "markdown",
   "metadata": {},
   "source": [
    "##### Q6:\n",
    "Reimplement the second-order derivative function `diff2` mentioned in question 4 by using Python class. Apply the class to differentiate $f(x) = x^{4}$ at $x = 1$.\n",
    "\n",
    "See *Derivative2.py*."
   ]
  },
  {
   "cell_type": "markdown",
   "metadata": {},
   "source": [
    "### L04-NumPy\n",
    "##### Q7:\n",
    "Create a vector with values ranging from `10` to `20`."
   ]
  },
  {
   "cell_type": "code",
   "execution_count": 3,
   "metadata": {
    "collapsed": true
   },
   "outputs": [
    {
     "data": {
      "text/plain": [
       "array([10, 11, 12, 13, 14, 15, 16, 17, 18, 19, 20])"
      ]
     },
     "execution_count": 3,
     "metadata": {},
     "output_type": "execute_result"
    }
   ],
   "source": [
    "np.arange(10, 21)"
   ]
  },
  {
   "cell_type": "markdown",
   "metadata": {},
   "source": [
    "##### Q8:\n",
    "Create a vector of size 10. The third element is `1` and the rest are `0`."
   ]
  },
  {
   "cell_type": "code",
   "execution_count": 4,
   "metadata": {
    "collapsed": true
   },
   "outputs": [
    {
     "data": {
      "text/plain": [
       "array([0., 0., 1., 0., 0., 0., 0., 0., 0., 0.])"
      ]
     },
     "execution_count": 4,
     "metadata": {},
     "output_type": "execute_result"
    }
   ],
   "source": [
    "A = np.zeros(10)\n",
    "A[2] = 1\n",
    "A"
   ]
  },
  {
   "cell_type": "markdown",
   "metadata": {},
   "source": [
    "##### Q9:\n",
    "Create a 4x4 2D array with values ranging from `0` to `15`."
   ]
  },
  {
   "cell_type": "code",
   "execution_count": 5,
   "metadata": {
    "collapsed": true
   },
   "outputs": [
    {
     "data": {
      "text/plain": [
       "array([[ 0,  1,  2,  3],\n       [ 4,  5,  6,  7],\n       [ 8,  9, 10, 11],\n       [12, 13, 14, 15]])"
      ]
     },
     "execution_count": 5,
     "metadata": {},
     "output_type": "execute_result"
    }
   ],
   "source": [
    "A = np.arange(16).reshape(4, 4)\n",
    "A"
   ]
  },
  {
   "cell_type": "markdown",
   "metadata": {},
   "source": [
    "##### Q10:\n",
    "Create a 4x4 2D array with values ranging from `0` to `15`. Assign `-1` to elements which are greater than 3 and less than 10."
   ]
  },
  {
   "cell_type": "code",
   "execution_count": 6,
   "metadata": {
    "collapsed": true
   },
   "outputs": [
    {
     "data": {
      "text/plain": [
       "array([[ 0,  1,  2,  3],\n       [-1, -1, -1, -1],\n       [-1, -1, 10, 11],\n       [12, 13, 14, 15]])"
      ]
     },
     "execution_count": 6,
     "metadata": {},
     "output_type": "execute_result"
    }
   ],
   "source": [
    "A = np.arange(16).reshape(4, 4)\n",
    "A[np.logical_and(A > 3, A < 10)] = -1\n",
    "A"
   ]
  },
  {
   "cell_type": "markdown",
   "metadata": {},
   "source": [
    "##### Q11:\n",
    "Create a 4x4 2D array with values ranging from `0` to `15`. Swap the first two rows."
   ]
  },
  {
   "cell_type": "code",
   "execution_count": 7,
   "metadata": {
    "collapsed": true
   },
   "outputs": [
    {
     "data": {
      "text/plain": [
       "array([[ 4,  5,  6,  7],\n       [ 0,  1,  2,  3],\n       [ 8,  9, 10, 11],\n       [12, 13, 14, 15]])"
      ]
     },
     "execution_count": 7,
     "metadata": {},
     "output_type": "execute_result"
    }
   ],
   "source": [
    "A = np.arange(16).reshape(4, 4)\n",
    "A[[0, 1]] = A[[1, 0]]\n",
    "A"
   ]
  },
  {
   "cell_type": "markdown",
   "metadata": {},
   "source": [
    "##### Q12:\n",
    "Create a vector of size 10 with values from `0` to `20`, excluding `20`."
   ]
  },
  {
   "cell_type": "code",
   "execution_count": 8,
   "metadata": {
    "collapsed": true
   },
   "outputs": [
    {
     "data": {
      "text/plain": [
       "array([ 0.,  2.,  4.,  6.,  8., 10., 12., 14., 16., 18.])"
      ]
     },
     "execution_count": 8,
     "metadata": {},
     "output_type": "execute_result"
    }
   ],
   "source": [
    "A = np.linspace(0, 20, 10, endpoint=False)\n",
    "A"
   ]
  },
  {
   "cell_type": "markdown",
   "metadata": {},
   "source": [
    "##### Q13:\n",
    "Create a 3x6 2D array with random integers. Subtract the mean of each row of the 2D array."
   ]
  },
  {
   "cell_type": "code",
   "execution_count": 9,
   "metadata": {
    "collapsed": true
   },
   "outputs": [
    {
     "name": "stdout",
     "output_type": "stream",
     "text": [
      "[[1 9 8 1 3 6]\n [5 0 6 4 9 3]\n [5 4 8 0 6 1]]\n"
     ]
    },
    {
     "data": {
      "text/plain": [
       "array([[-3.66666667,  4.33333333,  3.33333333, -3.66666667, -1.66666667,\n         1.33333333],\n       [ 0.5       , -4.5       ,  1.5       , -0.5       ,  4.5       ,\n        -1.5       ],\n       [ 1.        ,  0.        ,  4.        , -4.        ,  2.        ,\n        -3.        ]])"
      ]
     },
     "execution_count": 9,
     "metadata": {},
     "output_type": "execute_result"
    }
   ],
   "source": [
    "A = np.random.randint(10, size=(3, 6))\n",
    "print(A)\n",
    "B = A - A.mean(axis=1, keepdims=True)\n",
    "B"
   ]
  },
  {
   "cell_type": "markdown",
   "metadata": {},
   "source": [
    "##### Q14:\n",
    "Consider a 3D array with dimension (3, 4, 5). Multiply it by a 2D array with dimension (3, 4)."
   ]
  },
  {
   "cell_type": "code",
   "execution_count": 10,
   "metadata": {
    "collapsed": true
   },
   "outputs": [
    {
     "data": {
      "text/plain": [
       "array([[[20, 36, 16, 28, 32],\n        [12, 32, 12, 16,  4],\n        [ 0,  0,  8,  3,  6],\n        [36, 20, 32, 16, 36]],\n\n       [[ 6, 10, 10, 16, 10],\n        [ 4, 12, 20, 24,  0],\n        [ 0, 16,  0, 18,  6],\n        [ 4,  3,  7,  7,  1]],\n\n       [[ 9,  8,  7,  3,  6],\n        [ 0,  0,  0,  0,  0],\n        [ 9, 18, 12, 27,  6],\n        [ 0,  0,  0,  0,  0]]])"
      ]
     },
     "execution_count": 10,
     "metadata": {},
     "output_type": "execute_result"
    }
   ],
   "source": [
    "A = np.random.randint(10, size=(3, 4, 5))\n",
    "B = np.random.randint(5, size=(3, 4))\n",
    "A * B[:, :, None]\n",
    "\n",
    "# or\n",
    "# A * B[:, :, np.newaxis]"
   ]
  },
  {
   "cell_type": "markdown",
   "metadata": {},
   "source": [
    "##### Q15:\n",
    "Consider a vector of size 3 contains the coordinates of a point P in the Cartesian plane, and a 2D array of dimension (3, 10) comprises the coordinates of other 10 points. Calculate the distance between point P and each point of the 2D array."
   ]
  },
  {
   "cell_type": "code",
   "execution_count": 11,
   "metadata": {
    "collapsed": true
   },
   "outputs": [
    {
     "data": {
      "text/plain": [
       "array([10.48808848,  7.68114575,  2.23606798,  7.48331477,  8.60232527,\n        6.55743852,  5.74456265, 10.67707825, 12.20655562,  8.18535277])"
      ]
     },
     "execution_count": 11,
     "metadata": {},
     "output_type": "execute_result"
    }
   ],
   "source": [
    "A = np.array([0, 0, 0])\n",
    "B = np.random.randint(10, size=(3, 10))\n",
    "np.sqrt(np.sum((B - A[:, None])**2, axis=0))"
   ]
  },
  {
   "cell_type": "markdown",
   "metadata": {},
   "source": [
    "##### Q16:\n",
    "List all the constants provided by the SciPy constants package."
   ]
  },
  {
   "cell_type": "code",
   "execution_count": 12,
   "metadata": {
    "collapsed": true
   },
   "outputs": [
    {
     "data": {
      "text/plain": [
       "['Avogadro',\n 'Boltzmann',\n 'Btu',\n 'Btu_IT',\n 'Btu_th',\n 'ConstantWarning',\n 'G',\n 'Julian_year',\n 'N_A',\n 'Planck',\n 'R',\n 'Rydberg',\n 'Stefan_Boltzmann',\n 'Wien',\n '__all__',\n '__builtins__',\n '__cached__',\n '__doc__',\n '__file__',\n '__loader__',\n '__name__',\n '__package__',\n '__path__',\n '__spec__',\n '_obsolete_constants',\n 'absolute_import',\n 'acre',\n 'alpha',\n 'angstrom',\n 'arcmin',\n 'arcminute',\n 'arcsec',\n 'arcsecond',\n 'astronomical_unit',\n 'atm',\n 'atmosphere',\n 'atomic_mass',\n 'atto',\n 'au',\n 'bar',\n 'barrel',\n 'bbl',\n 'blob',\n 'c',\n 'calorie',\n 'calorie_IT',\n 'calorie_th',\n 'carat',\n 'centi',\n 'codata',\n 'constants',\n 'convert_temperature',\n 'day',\n 'deci',\n 'degree',\n 'degree_Fahrenheit',\n 'deka',\n 'division',\n 'dyn',\n 'dyne',\n 'e',\n 'eV',\n 'electron_mass',\n 'electron_volt',\n 'elementary_charge',\n 'epsilon_0',\n 'erg',\n 'exa',\n 'exbi',\n 'femto',\n 'fermi',\n 'find',\n 'fine_structure',\n 'fluid_ounce',\n 'fluid_ounce_US',\n 'fluid_ounce_imp',\n 'foot',\n 'g',\n 'gallon',\n 'gallon_US',\n 'gallon_imp',\n 'gas_constant',\n 'gibi',\n 'giga',\n 'golden',\n 'golden_ratio',\n 'grain',\n 'gram',\n 'gravitational_constant',\n 'h',\n 'hbar',\n 'hectare',\n 'hecto',\n 'horsepower',\n 'hour',\n 'hp',\n 'inch',\n 'k',\n 'kgf',\n 'kibi',\n 'kilo',\n 'kilogram_force',\n 'kmh',\n 'knot',\n 'lambda2nu',\n 'lb',\n 'lbf',\n 'light_year',\n 'liter',\n 'litre',\n 'long_ton',\n 'm_e',\n 'm_n',\n 'm_p',\n 'm_u',\n 'mach',\n 'mebi',\n 'mega',\n 'metric_ton',\n 'micro',\n 'micron',\n 'mil',\n 'mile',\n 'milli',\n 'minute',\n 'mmHg',\n 'mph',\n 'mu_0',\n 'nano',\n 'nautical_mile',\n 'neutron_mass',\n 'nu2lambda',\n 'ounce',\n 'oz',\n 'parsec',\n 'pebi',\n 'peta',\n 'physical_constants',\n 'pi',\n 'pico',\n 'point',\n 'pound',\n 'pound_force',\n 'precision',\n 'print_function',\n 'proton_mass',\n 'psi',\n 'pt',\n 'short_ton',\n 'sigma',\n 'slinch',\n 'slug',\n 'speed_of_light',\n 'speed_of_sound',\n 'stone',\n 'survey_foot',\n 'survey_mile',\n 'tebi',\n 'tera',\n 'test',\n 'ton_TNT',\n 'torr',\n 'troy_ounce',\n 'troy_pound',\n 'u',\n 'unit',\n 'value',\n 'week',\n 'yard',\n 'year',\n 'yobi',\n 'yotta',\n 'zebi',\n 'zepto',\n 'zero_Celsius',\n 'zetta']"
      ]
     },
     "execution_count": 12,
     "metadata": {},
     "output_type": "execute_result"
    }
   ],
   "source": [
    "from scipy import constants\n",
    "dir(constants)"
   ]
  },
  {
   "cell_type": "markdown",
   "metadata": {},
   "source": [
    "##### Q17:\n",
    "Consider a set of discreate points: $x = np.linspace(0, 2\\pi, 10), y = \\sin(x^{2/3})$. Interpolate them onto a new set of x points: $x = np.linspace(0, 2\\pi, 50)$ using linear and cubic methods. Plot the raw and interpolated data in one figure.\n",
    "\n",
    "See *interp.py*."
   ]
  },
  {
   "cell_type": "markdown",
   "metadata": {},
   "source": [
    "##### Q18:\n",
    "Integrate function $f(x) = e^{x^2}$ over `0` to `1` using two different methods."
   ]
  },
  {
   "cell_type": "code",
   "execution_count": 13,
   "metadata": {
    "collapsed": true
   },
   "outputs": [
    {
     "name": "stdout",
     "output_type": "stream",
     "text": [
      "1.4626517459071815\n1.4626580890505754\n"
     ]
    }
   ],
   "source": [
    "from scipy import integrate\n",
    "\n",
    "def f(x):\n",
    "    return np.exp(x**2)\n",
    "\n",
    "# use quad function\n",
    "I = integrate.quad(f, 0, 1)\n",
    "print(I[0])\n",
    "\n",
    "# use Simpson rules\n",
    "x = np.linspace(0, 1, 50)\n",
    "y = np.exp(x**2)\n",
    "print(integrate.simps(y, x))"
   ]
  },
  {
   "cell_type": "markdown",
   "metadata": {},
   "source": [
    "##### Q19:\n",
    "Solve the second-order ODE $y'' + y' + y = \\cos(x), \\quad y(0) = y'(0) = 0$ over `0` to `20`, and plot the numerical solution.\n",
    "\n",
    "See *ode2.py*."
   ]
  },
  {
   "cell_type": "markdown",
   "metadata": {},
   "source": [
    "##### Q20:\n",
    "Solve the following linear equations for the x and y values: $$2x + 5y = 20$$ $$x + 3y = 16$$"
   ]
  },
  {
   "cell_type": "code",
   "execution_count": 14,
   "metadata": {
    "collapsed": true
   },
   "outputs": [
    {
     "name": "stdout",
     "output_type": "stream",
     "text": [
      "[-20.  12.]\n"
     ]
    }
   ],
   "source": [
    "from scipy import linalg\n",
    "\n",
    "A = np.array([[2, 5], [1, 3]])\n",
    "B = np.array([20, 16])\n",
    "print(linalg.solve(A, B))"
   ]
  },
  {
   "cell_type": "markdown",
   "metadata": {},
   "source": [
    "##### Q21:\n",
    "Find the root of function $x^2 + \\cos(2x) + \\sin(2x) = 0$ with an initial guess of 0.1."
   ]
  },
  {
   "cell_type": "code",
   "execution_count": 15,
   "metadata": {
    "collapsed": true
   },
   "outputs": [
    {
     "name": "stdout",
     "output_type": "stream",
     "text": [
      "    fjac: array([[-1.]])\n     fun: array([-5.55111512e-17])\n message: 'The solution converged.'\n    nfev: 8\n     qtf: array([-4.25848246e-12])\n       r: array([-4.67693405])\n  status: 1\n success: True\n       x: array([-0.22831235])\n"
     ]
    }
   ],
   "source": [
    "from scipy import optimize\n",
    "\n",
    "def f(x):\n",
    "    return x**2 + np.cos(2*x) + np.sin(2*x)\n",
    "\n",
    "print(optimize.root(f, 0.1))"
   ]
  }
 ],
 "metadata": {
  "kernelspec": {
   "display_name": "Python 2",
   "language": "python",
   "name": "python2"
  },
  "language_info": {
   "codemirror_mode": {
    "name": "ipython",
    "version": 2
   },
   "file_extension": ".py",
   "mimetype": "text/x-python",
   "name": "python",
   "nbconvert_exporter": "python",
   "pygments_lexer": "ipython2",
   "version": "2.7.6"
  }
 },
 "nbformat": 4,
 "nbformat_minor": 0
}
